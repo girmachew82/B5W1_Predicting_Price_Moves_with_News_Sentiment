{
 "cells": [
  {
   "cell_type": "markdown",
   "id": "31dbb909",
   "metadata": {},
   "source": [
    "# **B5W1: Predicting Price Moves with News Sentiment**"
   ]
  },
  {
   "cell_type": "markdown",
   "id": "67c9507c",
   "metadata": {},
   "source": [
    "## **Week 2**"
   ]
  },
  {
   "cell_type": "markdown",
   "id": "33a57512",
   "metadata": {},
   "source": [
    "### **Exploratory Data Analysis (EDA)**"
   ]
  },
  {
   "cell_type": "code",
   "execution_count": 2,
   "id": "b62cc331",
   "metadata": {},
   "outputs": [],
   "source": [
    "import pandas as pd\n",
    "import numpy as np\n",
    "import matplotlib.pyplot as plt\n",
    "import seaborn as sns\n",
    "from scipy import stats\n",
    "import os"
   ]
  }
 ],
 "metadata": {
  "kernelspec": {
   "display_name": "venv",
   "language": "python",
   "name": "python3"
  },
  "language_info": {
   "codemirror_mode": {
    "name": "ipython",
    "version": 3
   },
   "file_extension": ".py",
   "mimetype": "text/x-python",
   "name": "python",
   "nbconvert_exporter": "python",
   "pygments_lexer": "ipython3",
   "version": "3.13.3"
  }
 },
 "nbformat": 4,
 "nbformat_minor": 5
}
