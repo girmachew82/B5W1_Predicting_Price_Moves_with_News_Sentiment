{
 "cells": [
  {
   "cell_type": "markdown",
   "id": "31dbb909",
   "metadata": {},
   "source": [
    "# **B5W1: Predicting Price Moves with News Sentiment**"
   ]
  },
  {
   "cell_type": "markdown",
   "id": "67c9507c",
   "metadata": {},
   "source": [
    "## **Week 2**"
   ]
  },
  {
   "cell_type": "markdown",
   "id": "33a57512",
   "metadata": {},
   "source": [
    "### **Exploratory Data Analysis (EDA)**"
   ]
  },
  {
   "cell_type": "code",
   "execution_count": null,
   "id": "b62cc331",
   "metadata": {},
   "outputs": [],
   "source": [
    "import pandas as pd\n",
    "import numpy as np\n",
    "import matplotlib.pyplot as plt\n",
    "import seaborn as sns\n",
    "from scipy import stats\n",
    "import os\n",
    "import sys"
   ]
  },
  {
   "cell_type": "code",
   "execution_count": 18,
   "id": "1b7a8e2d",
   "metadata": {},
   "outputs": [],
   "source": [
    "sys.path.append(os.path.abspath(os.path.join('..')))"
   ]
  },
  {
   "cell_type": "code",
   "execution_count": 23,
   "id": "893df8ba",
   "metadata": {},
   "outputs": [
    {
     "ename": "ImportError",
     "evalue": "cannot import name 'load_data' from 'scripts.RawAnalysis' (c:\\Users\\nebe\\B5W1_Predicting_Price_Moves_with_News_Sentiment\\scripts\\RawAnalysis.py)",
     "output_type": "error",
     "traceback": [
      "\u001b[31m---------------------------------------------------------------------------\u001b[39m",
      "\u001b[31mImportError\u001b[39m                               Traceback (most recent call last)",
      "\u001b[36mCell\u001b[39m\u001b[36m \u001b[39m\u001b[32mIn[23]\u001b[39m\u001b[32m, line 1\u001b[39m\n\u001b[32m----> \u001b[39m\u001b[32m1\u001b[39m \u001b[38;5;28;01mfrom\u001b[39;00m\u001b[38;5;250m \u001b[39m\u001b[34;01mscripts\u001b[39;00m\u001b[34;01m.\u001b[39;00m\u001b[34;01mRawAnalysis\u001b[39;00m\u001b[38;5;250m \u001b[39m\u001b[38;5;28;01mimport\u001b[39;00m load_data\n\u001b[32m      4\u001b[39m df = load_data(\u001b[33m'\u001b[39m\u001b[33mraw_analyst_ratings/raw_analyst_ratings.csv\u001b[39m\u001b[33m'\u001b[39m)\n",
      "\u001b[31mImportError\u001b[39m: cannot import name 'load_data' from 'scripts.RawAnalysis' (c:\\Users\\nebe\\B5W1_Predicting_Price_Moves_with_News_Sentiment\\scripts\\RawAnalysis.py)"
     ]
    }
   ],
   "source": [
    "from scripts.RawAnalysis import load_data\n",
    "\n",
    "\n",
    "df = load_data('raw_analyst_ratings/raw_analyst_ratings.csv')\n"
   ]
  }
 ],
 "metadata": {
  "kernelspec": {
   "display_name": "venv",
   "language": "python",
   "name": "python3"
  },
  "language_info": {
   "codemirror_mode": {
    "name": "ipython",
    "version": 3
   },
   "file_extension": ".py",
   "mimetype": "text/x-python",
   "name": "python",
   "nbconvert_exporter": "python",
   "pygments_lexer": "ipython3",
   "version": "3.13.3"
  }
 },
 "nbformat": 4,
 "nbformat_minor": 5
}
