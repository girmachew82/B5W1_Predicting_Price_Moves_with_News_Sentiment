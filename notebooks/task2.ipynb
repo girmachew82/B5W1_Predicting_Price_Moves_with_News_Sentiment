{
 "cells": [
  {
   "cell_type": "markdown",
   "id": "03620050",
   "metadata": {},
   "source": [
    "# **Quantitative analysis using pynance and TaLib**"
   ]
  },
  {
   "cell_type": "markdown",
   "id": "162f7698",
   "metadata": {},
   "source": [
    "## **Import Packages**"
   ]
  },
  {
   "cell_type": "code",
   "execution_count": 1,
   "id": "151fbfeb",
   "metadata": {},
   "outputs": [],
   "source": [
    "import pandas as pd\n",
    "import numpy as np\n",
    "import matplotlib.pyplot as plt\n",
    "import seaborn as sns\n",
    "from scipy import stats\n",
    "import os\n",
    "import sys"
   ]
  },
  {
   "cell_type": "code",
   "execution_count": 2,
   "id": "2d831901",
   "metadata": {},
   "outputs": [],
   "source": [
    "sys.path.append(os.path.abspath(os.path.join('..')))"
   ]
  },
  {
   "cell_type": "markdown",
   "id": "4e1df514",
   "metadata": {},
   "source": [
    "### **Load data**"
   ]
  },
  {
   "cell_type": "code",
   "execution_count": 3,
   "id": "0ca10e16",
   "metadata": {},
   "outputs": [
    {
     "name": "stdout",
     "output_type": "stream",
     "text": [
      "✅ Successfully loaded dataset: ../data/AAPL_historical_data.csv\n",
      "✅ Successfully loaded dataset: ../data/raw_analyst_ratings.csv\n"
     ]
    }
   ],
   "source": [
    "from scripts.RawAnalysis import RawAnalysis\n",
    "\n",
    "analyzer = RawAnalysis()\n",
    "df_stock = analyzer.load_data('../data/AAPL_historical_data.csv')\n",
    "df_news = analyzer.load_data('../data/raw_analyst_ratings.csv')"
   ]
  },
  {
   "cell_type": "markdown",
   "id": "6d8a3bbc",
   "metadata": {},
   "source": [
    "### **Discriptive Statistics**"
   ]
  },
  {
   "cell_type": "code",
   "execution_count": 4,
   "id": "e47aed39",
   "metadata": {},
   "outputs": [
    {
     "data": {
      "text/html": [
       "<div>\n",
       "<style scoped>\n",
       "    .dataframe tbody tr th:only-of-type {\n",
       "        vertical-align: middle;\n",
       "    }\n",
       "\n",
       "    .dataframe tbody tr th {\n",
       "        vertical-align: top;\n",
       "    }\n",
       "\n",
       "    .dataframe thead th {\n",
       "        text-align: right;\n",
       "    }\n",
       "</style>\n",
       "<table border=\"1\" class=\"dataframe\">\n",
       "  <thead>\n",
       "    <tr style=\"text-align: right;\">\n",
       "      <th></th>\n",
       "      <th>Date</th>\n",
       "      <th>Open</th>\n",
       "      <th>High</th>\n",
       "      <th>Low</th>\n",
       "      <th>Close</th>\n",
       "      <th>Adj Close</th>\n",
       "      <th>Volume</th>\n",
       "      <th>Dividends</th>\n",
       "      <th>Stock Splits</th>\n",
       "    </tr>\n",
       "  </thead>\n",
       "  <tbody>\n",
       "    <tr>\n",
       "      <th>0</th>\n",
       "      <td>1980-12-12</td>\n",
       "      <td>0.128348</td>\n",
       "      <td>0.128906</td>\n",
       "      <td>0.128348</td>\n",
       "      <td>0.128348</td>\n",
       "      <td>0.098943</td>\n",
       "      <td>469033600</td>\n",
       "      <td>0.0</td>\n",
       "      <td>0.0</td>\n",
       "    </tr>\n",
       "    <tr>\n",
       "      <th>1</th>\n",
       "      <td>1980-12-15</td>\n",
       "      <td>0.122210</td>\n",
       "      <td>0.122210</td>\n",
       "      <td>0.121652</td>\n",
       "      <td>0.121652</td>\n",
       "      <td>0.093781</td>\n",
       "      <td>175884800</td>\n",
       "      <td>0.0</td>\n",
       "      <td>0.0</td>\n",
       "    </tr>\n",
       "    <tr>\n",
       "      <th>2</th>\n",
       "      <td>1980-12-16</td>\n",
       "      <td>0.113281</td>\n",
       "      <td>0.113281</td>\n",
       "      <td>0.112723</td>\n",
       "      <td>0.112723</td>\n",
       "      <td>0.086898</td>\n",
       "      <td>105728000</td>\n",
       "      <td>0.0</td>\n",
       "      <td>0.0</td>\n",
       "    </tr>\n",
       "    <tr>\n",
       "      <th>3</th>\n",
       "      <td>1980-12-17</td>\n",
       "      <td>0.115513</td>\n",
       "      <td>0.116071</td>\n",
       "      <td>0.115513</td>\n",
       "      <td>0.115513</td>\n",
       "      <td>0.089049</td>\n",
       "      <td>86441600</td>\n",
       "      <td>0.0</td>\n",
       "      <td>0.0</td>\n",
       "    </tr>\n",
       "    <tr>\n",
       "      <th>4</th>\n",
       "      <td>1980-12-18</td>\n",
       "      <td>0.118862</td>\n",
       "      <td>0.119420</td>\n",
       "      <td>0.118862</td>\n",
       "      <td>0.118862</td>\n",
       "      <td>0.091630</td>\n",
       "      <td>73449600</td>\n",
       "      <td>0.0</td>\n",
       "      <td>0.0</td>\n",
       "    </tr>\n",
       "  </tbody>\n",
       "</table>\n",
       "</div>"
      ],
      "text/plain": [
       "         Date      Open      High       Low     Close  Adj Close     Volume  \\\n",
       "0  1980-12-12  0.128348  0.128906  0.128348  0.128348   0.098943  469033600   \n",
       "1  1980-12-15  0.122210  0.122210  0.121652  0.121652   0.093781  175884800   \n",
       "2  1980-12-16  0.113281  0.113281  0.112723  0.112723   0.086898  105728000   \n",
       "3  1980-12-17  0.115513  0.116071  0.115513  0.115513   0.089049   86441600   \n",
       "4  1980-12-18  0.118862  0.119420  0.118862  0.118862   0.091630   73449600   \n",
       "\n",
       "   Dividends  Stock Splits  \n",
       "0        0.0           0.0  \n",
       "1        0.0           0.0  \n",
       "2        0.0           0.0  \n",
       "3        0.0           0.0  \n",
       "4        0.0           0.0  "
      ]
     },
     "execution_count": 4,
     "metadata": {},
     "output_type": "execute_result"
    }
   ],
   "source": [
    "df_stock.head()"
   ]
  },
  {
   "cell_type": "code",
   "execution_count": 5,
   "id": "e3aa6e1f",
   "metadata": {},
   "outputs": [
    {
     "data": {
      "text/plain": [
       "(10998, 9)"
      ]
     },
     "execution_count": 5,
     "metadata": {},
     "output_type": "execute_result"
    }
   ],
   "source": [
    "df_stock.shape"
   ]
  },
  {
   "cell_type": "code",
   "execution_count": 6,
   "id": "c2aa6a50",
   "metadata": {},
   "outputs": [
    {
     "name": "stdout",
     "output_type": "stream",
     "text": [
      "<class 'pandas.core.frame.DataFrame'>\n",
      "RangeIndex: 10998 entries, 0 to 10997\n",
      "Data columns (total 9 columns):\n",
      " #   Column        Non-Null Count  Dtype  \n",
      "---  ------        --------------  -----  \n",
      " 0   Date          10998 non-null  object \n",
      " 1   Open          10998 non-null  float64\n",
      " 2   High          10998 non-null  float64\n",
      " 3   Low           10998 non-null  float64\n",
      " 4   Close         10998 non-null  float64\n",
      " 5   Adj Close     10998 non-null  float64\n",
      " 6   Volume        10998 non-null  int64  \n",
      " 7   Dividends     10998 non-null  float64\n",
      " 8   Stock Splits  10998 non-null  float64\n",
      "dtypes: float64(7), int64(1), object(1)\n",
      "memory usage: 773.4+ KB\n"
     ]
    }
   ],
   "source": [
    "df_stock.info()"
   ]
  },
  {
   "cell_type": "code",
   "execution_count": 7,
   "id": "543cce5c",
   "metadata": {},
   "outputs": [
    {
     "data": {
      "text/plain": [
       "Date            0\n",
       "Open            0\n",
       "High            0\n",
       "Low             0\n",
       "Close           0\n",
       "Adj Close       0\n",
       "Volume          0\n",
       "Dividends       0\n",
       "Stock Splits    0\n",
       "dtype: int64"
      ]
     },
     "execution_count": 7,
     "metadata": {},
     "output_type": "execute_result"
    }
   ],
   "source": [
    "# Count of missing values\n",
    "df_stock.isnull().sum()"
   ]
  },
  {
   "cell_type": "code",
   "execution_count": 8,
   "id": "f1e98f0a",
   "metadata": {},
   "outputs": [],
   "source": [
    "from scripts.StockAnalysis import StockAnalyzer\n",
    "analyzer = StockAnalyzer('AAPL')\n"
   ]
  },
  {
   "cell_type": "code",
   "execution_count": 9,
   "id": "e7cdc156",
   "metadata": {},
   "outputs": [],
   "source": [
    "# Get historical data\n",
    "data = analyzer.get_historical_data(period='1y')"
   ]
  },
  {
   "cell_type": "code",
   "execution_count": 10,
   "id": "7bb1e4fb",
   "metadata": {},
   "outputs": [],
   "source": [
    "# Calculate technical indicators\n",
    "data_with_indicators = analyzer.calculate_technical_indicators(data)"
   ]
  },
  {
   "cell_type": "code",
   "execution_count": 11,
   "id": "9c590d6d",
   "metadata": {},
   "outputs": [
    {
     "data": {
      "application/vnd.plotly.v1+json": {
       "config": {
        "plotlyServerURL": "https://plot.ly"
       },
       "data": [
        {
         "close": {
          "bdata": "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",
          "dtype": "f8"
         },
         "high": {
          "bdata": "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",
          "dtype": "f8"
         },
         "low": {
          "bdata": "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",
          "dtype": "f8"
         },
         "name": "OHLC",
         "open": {
          "bdata": "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",
          "dtype": "f8"
         },
         "type": "candlestick",
         "x": [
          "2024-05-30T00:00:00-04:00",
          "2024-05-31T00:00:00-04:00",
          "2024-06-03T00:00:00-04:00",
          "2024-06-04T00:00:00-04:00",
          "2024-06-05T00:00:00-04:00",
          "2024-06-06T00:00:00-04:00",
          "2024-06-07T00:00:00-04:00",
          "2024-06-10T00:00:00-04:00",
          "2024-06-11T00:00:00-04:00",
          "2024-06-12T00:00:00-04:00",
          "2024-06-13T00:00:00-04:00",
          "2024-06-14T00:00:00-04:00",
          "2024-06-17T00:00:00-04:00",
          "2024-06-18T00:00:00-04:00",
          "2024-06-20T00:00:00-04:00",
          "2024-06-21T00:00:00-04:00",
          "2024-06-24T00:00:00-04:00",
          "2024-06-25T00:00:00-04:00",
          "2024-06-26T00:00:00-04:00",
          "2024-06-27T00:00:00-04:00",
          "2024-06-28T00:00:00-04:00",
          "2024-07-01T00:00:00-04:00",
          "2024-07-02T00:00:00-04:00",
          "2024-07-03T00:00:00-04:00",
          "2024-07-05T00:00:00-04:00",
          "2024-07-08T00:00:00-04:00",
          "2024-07-09T00:00:00-04:00",
          "2024-07-10T00:00:00-04:00",
          "2024-07-11T00:00:00-04:00",
          "2024-07-12T00:00:00-04:00",
          "2024-07-15T00:00:00-04:00",
          "2024-07-16T00:00:00-04:00",
          "2024-07-17T00:00:00-04:00",
          "2024-07-18T00:00:00-04:00",
          "2024-07-19T00:00:00-04:00",
          "2024-07-22T00:00:00-04:00",
          "2024-07-23T00:00:00-04:00",
          "2024-07-24T00:00:00-04:00",
          "2024-07-25T00:00:00-04:00",
          "2024-07-26T00:00:00-04:00",
          "2024-07-29T00:00:00-04:00",
          "2024-07-30T00:00:00-04:00",
          "2024-07-31T00:00:00-04:00",
          "2024-08-01T00:00:00-04:00",
          "2024-08-02T00:00:00-04:00",
          "2024-08-05T00:00:00-04:00",
          "2024-08-06T00:00:00-04:00",
          "2024-08-07T00:00:00-04:00",
          "2024-08-08T00:00:00-04:00",
          "2024-08-09T00:00:00-04:00",
          "2024-08-12T00:00:00-04:00",
          "2024-08-13T00:00:00-04:00",
          "2024-08-14T00:00:00-04:00",
          "2024-08-15T00:00:00-04:00",
          "2024-08-16T00:00:00-04:00",
          "2024-08-19T00:00:00-04:00",
          "2024-08-20T00:00:00-04:00",
          "2024-08-21T00:00:00-04:00",
          "2024-08-22T00:00:00-04:00",
          "2024-08-23T00:00:00-04:00",
          "2024-08-26T00:00:00-04:00",
          "2024-08-27T00:00:00-04:00",
          "2024-08-28T00:00:00-04:00",
          "2024-08-29T00:00:00-04:00",
          "2024-08-30T00:00:00-04:00",
          "2024-09-03T00:00:00-04:00",
          "2024-09-04T00:00:00-04:00",
          "2024-09-05T00:00:00-04:00",
          "2024-09-06T00:00:00-04:00",
          "2024-09-09T00:00:00-04:00",
          "2024-09-10T00:00:00-04:00",
          "2024-09-11T00:00:00-04:00",
          "2024-09-12T00:00:00-04:00",
          "2024-09-13T00:00:00-04:00",
          "2024-09-16T00:00:00-04:00",
          "2024-09-17T00:00:00-04:00",
          "2024-09-18T00:00:00-04:00",
          "2024-09-19T00:00:00-04:00",
          "2024-09-20T00:00:00-04:00",
          "2024-09-23T00:00:00-04:00",
          "2024-09-24T00:00:00-04:00",
          "2024-09-25T00:00:00-04:00",
          "2024-09-26T00:00:00-04:00",
          "2024-09-27T00:00:00-04:00",
          "2024-09-30T00:00:00-04:00",
          "2024-10-01T00:00:00-04:00",
          "2024-10-02T00:00:00-04:00",
          "2024-10-03T00:00:00-04:00",
          "2024-10-04T00:00:00-04:00",
          "2024-10-07T00:00:00-04:00",
          "2024-10-08T00:00:00-04:00",
          "2024-10-09T00:00:00-04:00",
          "2024-10-10T00:00:00-04:00",
          "2024-10-11T00:00:00-04:00",
          "2024-10-14T00:00:00-04:00",
          "2024-10-15T00:00:00-04:00",
          "2024-10-16T00:00:00-04:00",
          "2024-10-17T00:00:00-04:00",
          "2024-10-18T00:00:00-04:00",
          "2024-10-21T00:00:00-04:00",
          "2024-10-22T00:00:00-04:00",
          "2024-10-23T00:00:00-04:00",
          "2024-10-24T00:00:00-04:00",
          "2024-10-25T00:00:00-04:00",
          "2024-10-28T00:00:00-04:00",
          "2024-10-29T00:00:00-04:00",
          "2024-10-30T00:00:00-04:00",
          "2024-10-31T00:00:00-04:00",
          "2024-11-01T00:00:00-04:00",
          "2024-11-04T00:00:00-05:00",
          "2024-11-05T00:00:00-05:00",
          "2024-11-06T00:00:00-05:00",
          "2024-11-07T00:00:00-05:00",
          "2024-11-08T00:00:00-05:00",
          "2024-11-11T00:00:00-05:00",
          "2024-11-12T00:00:00-05:00",
          "2024-11-13T00:00:00-05:00",
          "2024-11-14T00:00:00-05:00",
          "2024-11-15T00:00:00-05:00",
          "2024-11-18T00:00:00-05:00",
          "2024-11-19T00:00:00-05:00",
          "2024-11-20T00:00:00-05:00",
          "2024-11-21T00:00:00-05:00",
          "2024-11-22T00:00:00-05:00",
          "2024-11-25T00:00:00-05:00",
          "2024-11-26T00:00:00-05:00",
          "2024-11-27T00:00:00-05:00",
          "2024-11-29T00:00:00-05:00",
          "2024-12-02T00:00:00-05:00",
          "2024-12-03T00:00:00-05:00",
          "2024-12-04T00:00:00-05:00",
          "2024-12-05T00:00:00-05:00",
          "2024-12-06T00:00:00-05:00",
          "2024-12-09T00:00:00-05:00",
          "2024-12-10T00:00:00-05:00",
          "2024-12-11T00:00:00-05:00",
          "2024-12-12T00:00:00-05:00",
          "2024-12-13T00:00:00-05:00",
          "2024-12-16T00:00:00-05:00",
          "2024-12-17T00:00:00-05:00",
          "2024-12-18T00:00:00-05:00",
          "2024-12-19T00:00:00-05:00",
          "2024-12-20T00:00:00-05:00",
          "2024-12-23T00:00:00-05:00",
          "2024-12-24T00:00:00-05:00",
          "2024-12-26T00:00:00-05:00",
          "2024-12-27T00:00:00-05:00",
          "2024-12-30T00:00:00-05:00",
          "2024-12-31T00:00:00-05:00",
          "2025-01-02T00:00:00-05:00",
          "2025-01-03T00:00:00-05:00",
          "2025-01-06T00:00:00-05:00",
          "2025-01-07T00:00:00-05:00",
          "2025-01-08T00:00:00-05:00",
          "2025-01-10T00:00:00-05:00",
          "2025-01-13T00:00:00-05:00",
          "2025-01-14T00:00:00-05:00",
          "2025-01-15T00:00:00-05:00",
          "2025-01-16T00:00:00-05:00",
          "2025-01-17T00:00:00-05:00",
          "2025-01-21T00:00:00-05:00",
          "2025-01-22T00:00:00-05:00",
          "2025-01-23T00:00:00-05:00",
          "2025-01-24T00:00:00-05:00",
          "2025-01-27T00:00:00-05:00",
          "2025-01-28T00:00:00-05:00",
          "2025-01-29T00:00:00-05:00",
          "2025-01-30T00:00:00-05:00",
          "2025-01-31T00:00:00-05:00",
          "2025-02-03T00:00:00-05:00",
          "2025-02-04T00:00:00-05:00",
          "2025-02-05T00:00:00-05:00",
          "2025-02-06T00:00:00-05:00",
          "2025-02-07T00:00:00-05:00",
          "2025-02-10T00:00:00-05:00",
          "2025-02-11T00:00:00-05:00",
          "2025-02-12T00:00:00-05:00",
          "2025-02-13T00:00:00-05:00",
          "2025-02-14T00:00:00-05:00",
          "2025-02-18T00:00:00-05:00",
          "2025-02-19T00:00:00-05:00",
          "2025-02-20T00:00:00-05:00",
          "2025-02-21T00:00:00-05:00",
          "2025-02-24T00:00:00-05:00",
          "2025-02-25T00:00:00-05:00",
          "2025-02-26T00:00:00-05:00",
          "2025-02-27T00:00:00-05:00",
          "2025-02-28T00:00:00-05:00",
          "2025-03-03T00:00:00-05:00",
          "2025-03-04T00:00:00-05:00",
          "2025-03-05T00:00:00-05:00",
          "2025-03-06T00:00:00-05:00",
          "2025-03-07T00:00:00-05:00",
          "2025-03-10T00:00:00-04:00",
          "2025-03-11T00:00:00-04:00",
          "2025-03-12T00:00:00-04:00",
          "2025-03-13T00:00:00-04:00",
          "2025-03-14T00:00:00-04:00",
          "2025-03-17T00:00:00-04:00",
          "2025-03-18T00:00:00-04:00",
          "2025-03-19T00:00:00-04:00",
          "2025-03-20T00:00:00-04:00",
          "2025-03-21T00:00:00-04:00",
          "2025-03-24T00:00:00-04:00",
          "2025-03-25T00:00:00-04:00",
          "2025-03-26T00:00:00-04:00",
          "2025-03-27T00:00:00-04:00",
          "2025-03-28T00:00:00-04:00",
          "2025-03-31T00:00:00-04:00",
          "2025-04-01T00:00:00-04:00",
          "2025-04-02T00:00:00-04:00",
          "2025-04-03T00:00:00-04:00",
          "2025-04-04T00:00:00-04:00",
          "2025-04-07T00:00:00-04:00",
          "2025-04-08T00:00:00-04:00",
          "2025-04-09T00:00:00-04:00",
          "2025-04-10T00:00:00-04:00",
          "2025-04-11T00:00:00-04:00",
          "2025-04-14T00:00:00-04:00",
          "2025-04-15T00:00:00-04:00",
          "2025-04-16T00:00:00-04:00",
          "2025-04-17T00:00:00-04:00",
          "2025-04-21T00:00:00-04:00",
          "2025-04-22T00:00:00-04:00",
          "2025-04-23T00:00:00-04:00",
          "2025-04-24T00:00:00-04:00",
          "2025-04-25T00:00:00-04:00",
          "2025-04-28T00:00:00-04:00",
          "2025-04-29T00:00:00-04:00",
          "2025-04-30T00:00:00-04:00",
          "2025-05-01T00:00:00-04:00",
          "2025-05-02T00:00:00-04:00",
          "2025-05-05T00:00:00-04:00",
          "2025-05-06T00:00:00-04:00",
          "2025-05-07T00:00:00-04:00",
          "2025-05-08T00:00:00-04:00",
          "2025-05-09T00:00:00-04:00",
          "2025-05-12T00:00:00-04:00",
          "2025-05-13T00:00:00-04:00",
          "2025-05-14T00:00:00-04:00",
          "2025-05-15T00:00:00-04:00",
          "2025-05-16T00:00:00-04:00",
          "2025-05-19T00:00:00-04:00",
          "2025-05-20T00:00:00-04:00",
          "2025-05-21T00:00:00-04:00",
          "2025-05-22T00:00:00-04:00",
          "2025-05-23T00:00:00-04:00",
          "2025-05-27T00:00:00-04:00",
          "2025-05-28T00:00:00-04:00",
          "2025-05-29T00:00:00-04:00",
          "2025-05-30T00:00:00-04:00"
         ],
         "xaxis": "x",
         "yaxis": "y"
        },
        {
         "line": {
          "color": "blue"
         },
         "name": "SMA 20",
         "type": "scatter",
         "x": [
          "2024-05-30T00:00:00-04:00",
          "2024-05-31T00:00:00-04:00",
          "2024-06-03T00:00:00-04:00",
          "2024-06-04T00:00:00-04:00",
          "2024-06-05T00:00:00-04:00",
          "2024-06-06T00:00:00-04:00",
          "2024-06-07T00:00:00-04:00",
          "2024-06-10T00:00:00-04:00",
          "2024-06-11T00:00:00-04:00",
          "2024-06-12T00:00:00-04:00",
          "2024-06-13T00:00:00-04:00",
          "2024-06-14T00:00:00-04:00",
          "2024-06-17T00:00:00-04:00",
          "2024-06-18T00:00:00-04:00",
          "2024-06-20T00:00:00-04:00",
          "2024-06-21T00:00:00-04:00",
          "2024-06-24T00:00:00-04:00",
          "2024-06-25T00:00:00-04:00",
          "2024-06-26T00:00:00-04:00",
          "2024-06-27T00:00:00-04:00",
          "2024-06-28T00:00:00-04:00",
          "2024-07-01T00:00:00-04:00",
          "2024-07-02T00:00:00-04:00",
          "2024-07-03T00:00:00-04:00",
          "2024-07-05T00:00:00-04:00",
          "2024-07-08T00:00:00-04:00",
          "2024-07-09T00:00:00-04:00",
          "2024-07-10T00:00:00-04:00",
          "2024-07-11T00:00:00-04:00",
          "2024-07-12T00:00:00-04:00",
          "2024-07-15T00:00:00-04:00",
          "2024-07-16T00:00:00-04:00",
          "2024-07-17T00:00:00-04:00",
          "2024-07-18T00:00:00-04:00",
          "2024-07-19T00:00:00-04:00",
          "2024-07-22T00:00:00-04:00",
          "2024-07-23T00:00:00-04:00",
          "2024-07-24T00:00:00-04:00",
          "2024-07-25T00:00:00-04:00",
          "2024-07-26T00:00:00-04:00",
          "2024-07-29T00:00:00-04:00",
          "2024-07-30T00:00:00-04:00",
          "2024-07-31T00:00:00-04:00",
          "2024-08-01T00:00:00-04:00",
          "2024-08-02T00:00:00-04:00",
          "2024-08-05T00:00:00-04:00",
          "2024-08-06T00:00:00-04:00",
          "2024-08-07T00:00:00-04:00",
          "2024-08-08T00:00:00-04:00",
          "2024-08-09T00:00:00-04:00",
          "2024-08-12T00:00:00-04:00",
          "2024-08-13T00:00:00-04:00",
          "2024-08-14T00:00:00-04:00",
          "2024-08-15T00:00:00-04:00",
          "2024-08-16T00:00:00-04:00",
          "2024-08-19T00:00:00-04:00",
          "2024-08-20T00:00:00-04:00",
          "2024-08-21T00:00:00-04:00",
          "2024-08-22T00:00:00-04:00",
          "2024-08-23T00:00:00-04:00",
          "2024-08-26T00:00:00-04:00",
          "2024-08-27T00:00:00-04:00",
          "2024-08-28T00:00:00-04:00",
          "2024-08-29T00:00:00-04:00",
          "2024-08-30T00:00:00-04:00",
          "2024-09-03T00:00:00-04:00",
          "2024-09-04T00:00:00-04:00",
          "2024-09-05T00:00:00-04:00",
          "2024-09-06T00:00:00-04:00",
          "2024-09-09T00:00:00-04:00",
          "2024-09-10T00:00:00-04:00",
          "2024-09-11T00:00:00-04:00",
          "2024-09-12T00:00:00-04:00",
          "2024-09-13T00:00:00-04:00",
          "2024-09-16T00:00:00-04:00",
          "2024-09-17T00:00:00-04:00",
          "2024-09-18T00:00:00-04:00",
          "2024-09-19T00:00:00-04:00",
          "2024-09-20T00:00:00-04:00",
          "2024-09-23T00:00:00-04:00",
          "2024-09-24T00:00:00-04:00",
          "2024-09-25T00:00:00-04:00",
          "2024-09-26T00:00:00-04:00",
          "2024-09-27T00:00:00-04:00",
          "2024-09-30T00:00:00-04:00",
          "2024-10-01T00:00:00-04:00",
          "2024-10-02T00:00:00-04:00",
          "2024-10-03T00:00:00-04:00",
          "2024-10-04T00:00:00-04:00",
          "2024-10-07T00:00:00-04:00",
          "2024-10-08T00:00:00-04:00",
          "2024-10-09T00:00:00-04:00",
          "2024-10-10T00:00:00-04:00",
          "2024-10-11T00:00:00-04:00",
          "2024-10-14T00:00:00-04:00",
          "2024-10-15T00:00:00-04:00",
          "2024-10-16T00:00:00-04:00",
          "2024-10-17T00:00:00-04:00",
          "2024-10-18T00:00:00-04:00",
          "2024-10-21T00:00:00-04:00",
          "2024-10-22T00:00:00-04:00",
          "2024-10-23T00:00:00-04:00",
          "2024-10-24T00:00:00-04:00",
          "2024-10-25T00:00:00-04:00",
          "2024-10-28T00:00:00-04:00",
          "2024-10-29T00:00:00-04:00",
          "2024-10-30T00:00:00-04:00",
          "2024-10-31T00:00:00-04:00",
          "2024-11-01T00:00:00-04:00",
          "2024-11-04T00:00:00-05:00",
          "2024-11-05T00:00:00-05:00",
          "2024-11-06T00:00:00-05:00",
          "2024-11-07T00:00:00-05:00",
          "2024-11-08T00:00:00-05:00",
          "2024-11-11T00:00:00-05:00",
          "2024-11-12T00:00:00-05:00",
          "2024-11-13T00:00:00-05:00",
          "2024-11-14T00:00:00-05:00",
          "2024-11-15T00:00:00-05:00",
          "2024-11-18T00:00:00-05:00",
          "2024-11-19T00:00:00-05:00",
          "2024-11-20T00:00:00-05:00",
          "2024-11-21T00:00:00-05:00",
          "2024-11-22T00:00:00-05:00",
          "2024-11-25T00:00:00-05:00",
          "2024-11-26T00:00:00-05:00",
          "2024-11-27T00:00:00-05:00",
          "2024-11-29T00:00:00-05:00",
          "2024-12-02T00:00:00-05:00",
          "2024-12-03T00:00:00-05:00",
          "2024-12-04T00:00:00-05:00",
          "2024-12-05T00:00:00-05:00",
          "2024-12-06T00:00:00-05:00",
          "2024-12-09T00:00:00-05:00",
          "2024-12-10T00:00:00-05:00",
          "2024-12-11T00:00:00-05:00",
          "2024-12-12T00:00:00-05:00",
          "2024-12-13T00:00:00-05:00",
          "2024-12-16T00:00:00-05:00",
          "2024-12-17T00:00:00-05:00",
          "2024-12-18T00:00:00-05:00",
          "2024-12-19T00:00:00-05:00",
          "2024-12-20T00:00:00-05:00",
          "2024-12-23T00:00:00-05:00",
          "2024-12-24T00:00:00-05:00",
          "2024-12-26T00:00:00-05:00",
          "2024-12-27T00:00:00-05:00",
          "2024-12-30T00:00:00-05:00",
          "2024-12-31T00:00:00-05:00",
          "2025-01-02T00:00:00-05:00",
          "2025-01-03T00:00:00-05:00",
          "2025-01-06T00:00:00-05:00",
          "2025-01-07T00:00:00-05:00",
          "2025-01-08T00:00:00-05:00",
          "2025-01-10T00:00:00-05:00",
          "2025-01-13T00:00:00-05:00",
          "2025-01-14T00:00:00-05:00",
          "2025-01-15T00:00:00-05:00",
          "2025-01-16T00:00:00-05:00",
          "2025-01-17T00:00:00-05:00",
          "2025-01-21T00:00:00-05:00",
          "2025-01-22T00:00:00-05:00",
          "2025-01-23T00:00:00-05:00",
          "2025-01-24T00:00:00-05:00",
          "2025-01-27T00:00:00-05:00",
          "2025-01-28T00:00:00-05:00",
          "2025-01-29T00:00:00-05:00",
          "2025-01-30T00:00:00-05:00",
          "2025-01-31T00:00:00-05:00",
          "2025-02-03T00:00:00-05:00",
          "2025-02-04T00:00:00-05:00",
          "2025-02-05T00:00:00-05:00",
          "2025-02-06T00:00:00-05:00",
          "2025-02-07T00:00:00-05:00",
          "2025-02-10T00:00:00-05:00",
          "2025-02-11T00:00:00-05:00",
          "2025-02-12T00:00:00-05:00",
          "2025-02-13T00:00:00-05:00",
          "2025-02-14T00:00:00-05:00",
          "2025-02-18T00:00:00-05:00",
          "2025-02-19T00:00:00-05:00",
          "2025-02-20T00:00:00-05:00",
          "2025-02-21T00:00:00-05:00",
          "2025-02-24T00:00:00-05:00",
          "2025-02-25T00:00:00-05:00",
          "2025-02-26T00:00:00-05:00",
          "2025-02-27T00:00:00-05:00",
          "2025-02-28T00:00:00-05:00",
          "2025-03-03T00:00:00-05:00",
          "2025-03-04T00:00:00-05:00",
          "2025-03-05T00:00:00-05:00",
          "2025-03-06T00:00:00-05:00",
          "2025-03-07T00:00:00-05:00",
          "2025-03-10T00:00:00-04:00",
          "2025-03-11T00:00:00-04:00",
          "2025-03-12T00:00:00-04:00",
          "2025-03-13T00:00:00-04:00",
          "2025-03-14T00:00:00-04:00",
          "2025-03-17T00:00:00-04:00",
          "2025-03-18T00:00:00-04:00",
          "2025-03-19T00:00:00-04:00",
          "2025-03-20T00:00:00-04:00",
          "2025-03-21T00:00:00-04:00",
          "2025-03-24T00:00:00-04:00",
          "2025-03-25T00:00:00-04:00",
          "2025-03-26T00:00:00-04:00",
          "2025-03-27T00:00:00-04:00",
          "2025-03-28T00:00:00-04:00",
          "2025-03-31T00:00:00-04:00",
          "2025-04-01T00:00:00-04:00",
          "2025-04-02T00:00:00-04:00",
          "2025-04-03T00:00:00-04:00",
          "2025-04-04T00:00:00-04:00",
          "2025-04-07T00:00:00-04:00",
          "2025-04-08T00:00:00-04:00",
          "2025-04-09T00:00:00-04:00",
          "2025-04-10T00:00:00-04:00",
          "2025-04-11T00:00:00-04:00",
          "2025-04-14T00:00:00-04:00",
          "2025-04-15T00:00:00-04:00",
          "2025-04-16T00:00:00-04:00",
          "2025-04-17T00:00:00-04:00",
          "2025-04-21T00:00:00-04:00",
          "2025-04-22T00:00:00-04:00",
          "2025-04-23T00:00:00-04:00",
          "2025-04-24T00:00:00-04:00",
          "2025-04-25T00:00:00-04:00",
          "2025-04-28T00:00:00-04:00",
          "2025-04-29T00:00:00-04:00",
          "2025-04-30T00:00:00-04:00",
          "2025-05-01T00:00:00-04:00",
          "2025-05-02T00:00:00-04:00",
          "2025-05-05T00:00:00-04:00",
          "2025-05-06T00:00:00-04:00",
          "2025-05-07T00:00:00-04:00",
          "2025-05-08T00:00:00-04:00",
          "2025-05-09T00:00:00-04:00",
          "2025-05-12T00:00:00-04:00",
          "2025-05-13T00:00:00-04:00",
          "2025-05-14T00:00:00-04:00",
          "2025-05-15T00:00:00-04:00",
          "2025-05-16T00:00:00-04:00",
          "2025-05-19T00:00:00-04:00",
          "2025-05-20T00:00:00-04:00",
          "2025-05-21T00:00:00-04:00",
          "2025-05-22T00:00:00-04:00",
          "2025-05-23T00:00:00-04:00",
          "2025-05-27T00:00:00-04:00",
          "2025-05-28T00:00:00-04:00",
          "2025-05-29T00:00:00-04:00",
          "2025-05-30T00:00:00-04:00"
         ],
         "xaxis": "x",
         "y": {
          "bdata": "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",
          "dtype": "f8"
         },
         "yaxis": "y"
        },
        {
         "line": {
          "color": "red"
         },
         "name": "SMA 50",
         "type": "scatter",
         "x": [
          "2024-05-30T00:00:00-04:00",
          "2024-05-31T00:00:00-04:00",
          "2024-06-03T00:00:00-04:00",
          "2024-06-04T00:00:00-04:00",
          "2024-06-05T00:00:00-04:00",
          "2024-06-06T00:00:00-04:00",
          "2024-06-07T00:00:00-04:00",
          "2024-06-10T00:00:00-04:00",
          "2024-06-11T00:00:00-04:00",
          "2024-06-12T00:00:00-04:00",
          "2024-06-13T00:00:00-04:00",
          "2024-06-14T00:00:00-04:00",
          "2024-06-17T00:00:00-04:00",
          "2024-06-18T00:00:00-04:00",
          "2024-06-20T00:00:00-04:00",
          "2024-06-21T00:00:00-04:00",
          "2024-06-24T00:00:00-04:00",
          "2024-06-25T00:00:00-04:00",
          "2024-06-26T00:00:00-04:00",
          "2024-06-27T00:00:00-04:00",
          "2024-06-28T00:00:00-04:00",
          "2024-07-01T00:00:00-04:00",
          "2024-07-02T00:00:00-04:00",
          "2024-07-03T00:00:00-04:00",
          "2024-07-05T00:00:00-04:00",
          "2024-07-08T00:00:00-04:00",
          "2024-07-09T00:00:00-04:00",
          "2024-07-10T00:00:00-04:00",
          "2024-07-11T00:00:00-04:00",
          "2024-07-12T00:00:00-04:00",
          "2024-07-15T00:00:00-04:00",
          "2024-07-16T00:00:00-04:00",
          "2024-07-17T00:00:00-04:00",
          "2024-07-18T00:00:00-04:00",
          "2024-07-19T00:00:00-04:00",
          "2024-07-22T00:00:00-04:00",
          "2024-07-23T00:00:00-04:00",
          "2024-07-24T00:00:00-04:00",
          "2024-07-25T00:00:00-04:00",
          "2024-07-26T00:00:00-04:00",
          "2024-07-29T00:00:00-04:00",
          "2024-07-30T00:00:00-04:00",
          "2024-07-31T00:00:00-04:00",
          "2024-08-01T00:00:00-04:00",
          "2024-08-02T00:00:00-04:00",
          "2024-08-05T00:00:00-04:00",
          "2024-08-06T00:00:00-04:00",
          "2024-08-07T00:00:00-04:00",
          "2024-08-08T00:00:00-04:00",
          "2024-08-09T00:00:00-04:00",
          "2024-08-12T00:00:00-04:00",
          "2024-08-13T00:00:00-04:00",
          "2024-08-14T00:00:00-04:00",
          "2024-08-15T00:00:00-04:00",
          "2024-08-16T00:00:00-04:00",
          "2024-08-19T00:00:00-04:00",
          "2024-08-20T00:00:00-04:00",
          "2024-08-21T00:00:00-04:00",
          "2024-08-22T00:00:00-04:00",
          "2024-08-23T00:00:00-04:00",
          "2024-08-26T00:00:00-04:00",
          "2024-08-27T00:00:00-04:00",
          "2024-08-28T00:00:00-04:00",
          "2024-08-29T00:00:00-04:00",
          "2024-08-30T00:00:00-04:00",
          "2024-09-03T00:00:00-04:00",
          "2024-09-04T00:00:00-04:00",
          "2024-09-05T00:00:00-04:00",
          "2024-09-06T00:00:00-04:00",
          "2024-09-09T00:00:00-04:00",
          "2024-09-10T00:00:00-04:00",
          "2024-09-11T00:00:00-04:00",
          "2024-09-12T00:00:00-04:00",
          "2024-09-13T00:00:00-04:00",
          "2024-09-16T00:00:00-04:00",
          "2024-09-17T00:00:00-04:00",
          "2024-09-18T00:00:00-04:00",
          "2024-09-19T00:00:00-04:00",
          "2024-09-20T00:00:00-04:00",
          "2024-09-23T00:00:00-04:00",
          "2024-09-24T00:00:00-04:00",
          "2024-09-25T00:00:00-04:00",
          "2024-09-26T00:00:00-04:00",
          "2024-09-27T00:00:00-04:00",
          "2024-09-30T00:00:00-04:00",
          "2024-10-01T00:00:00-04:00",
          "2024-10-02T00:00:00-04:00",
          "2024-10-03T00:00:00-04:00",
          "2024-10-04T00:00:00-04:00",
          "2024-10-07T00:00:00-04:00",
          "2024-10-08T00:00:00-04:00",
          "2024-10-09T00:00:00-04:00",
          "2024-10-10T00:00:00-04:00",
          "2024-10-11T00:00:00-04:00",
          "2024-10-14T00:00:00-04:00",
          "2024-10-15T00:00:00-04:00",
          "2024-10-16T00:00:00-04:00",
          "2024-10-17T00:00:00-04:00",
          "2024-10-18T00:00:00-04:00",
          "2024-10-21T00:00:00-04:00",
          "2024-10-22T00:00:00-04:00",
          "2024-10-23T00:00:00-04:00",
          "2024-10-24T00:00:00-04:00",
          "2024-10-25T00:00:00-04:00",
          "2024-10-28T00:00:00-04:00",
          "2024-10-29T00:00:00-04:00",
          "2024-10-30T00:00:00-04:00",
          "2024-10-31T00:00:00-04:00",
          "2024-11-01T00:00:00-04:00",
          "2024-11-04T00:00:00-05:00",
          "2024-11-05T00:00:00-05:00",
          "2024-11-06T00:00:00-05:00",
          "2024-11-07T00:00:00-05:00",
          "2024-11-08T00:00:00-05:00",
          "2024-11-11T00:00:00-05:00",
          "2024-11-12T00:00:00-05:00",
          "2024-11-13T00:00:00-05:00",
          "2024-11-14T00:00:00-05:00",
          "2024-11-15T00:00:00-05:00",
          "2024-11-18T00:00:00-05:00",
          "2024-11-19T00:00:00-05:00",
          "2024-11-20T00:00:00-05:00",
          "2024-11-21T00:00:00-05:00",
          "2024-11-22T00:00:00-05:00",
          "2024-11-25T00:00:00-05:00",
          "2024-11-26T00:00:00-05:00",
          "2024-11-27T00:00:00-05:00",
          "2024-11-29T00:00:00-05:00",
          "2024-12-02T00:00:00-05:00",
          "2024-12-03T00:00:00-05:00",
          "2024-12-04T00:00:00-05:00",
          "2024-12-05T00:00:00-05:00",
          "2024-12-06T00:00:00-05:00",
          "2024-12-09T00:00:00-05:00",
          "2024-12-10T00:00:00-05:00",
          "2024-12-11T00:00:00-05:00",
          "2024-12-12T00:00:00-05:00",
          "2024-12-13T00:00:00-05:00",
          "2024-12-16T00:00:00-05:00",
          "2024-12-17T00:00:00-05:00",
          "2024-12-18T00:00:00-05:00",
          "2024-12-19T00:00:00-05:00",
          "2024-12-20T00:00:00-05:00",
          "2024-12-23T00:00:00-05:00",
          "2024-12-24T00:00:00-05:00",
          "2024-12-26T00:00:00-05:00",
          "2024-12-27T00:00:00-05:00",
          "2024-12-30T00:00:00-05:00",
          "2024-12-31T00:00:00-05:00",
          "2025-01-02T00:00:00-05:00",
          "2025-01-03T00:00:00-05:00",
          "2025-01-06T00:00:00-05:00",
          "2025-01-07T00:00:00-05:00",
          "2025-01-08T00:00:00-05:00",
          "2025-01-10T00:00:00-05:00",
          "2025-01-13T00:00:00-05:00",
          "2025-01-14T00:00:00-05:00",
          "2025-01-15T00:00:00-05:00",
          "2025-01-16T00:00:00-05:00",
          "2025-01-17T00:00:00-05:00",
          "2025-01-21T00:00:00-05:00",
          "2025-01-22T00:00:00-05:00",
          "2025-01-23T00:00:00-05:00",
          "2025-01-24T00:00:00-05:00",
          "2025-01-27T00:00:00-05:00",
          "2025-01-28T00:00:00-05:00",
          "2025-01-29T00:00:00-05:00",
          "2025-01-30T00:00:00-05:00",
          "2025-01-31T00:00:00-05:00",
          "2025-02-03T00:00:00-05:00",
          "2025-02-04T00:00:00-05:00",
          "2025-02-05T00:00:00-05:00",
          "2025-02-06T00:00:00-05:00",
          "2025-02-07T00:00:00-05:00",
          "2025-02-10T00:00:00-05:00",
          "2025-02-11T00:00:00-05:00",
          "2025-02-12T00:00:00-05:00",
          "2025-02-13T00:00:00-05:00",
          "2025-02-14T00:00:00-05:00",
          "2025-02-18T00:00:00-05:00",
          "2025-02-19T00:00:00-05:00",
          "2025-02-20T00:00:00-05:00",
          "2025-02-21T00:00:00-05:00",
          "2025-02-24T00:00:00-05:00",
          "2025-02-25T00:00:00-05:00",
          "2025-02-26T00:00:00-05:00",
          "2025-02-27T00:00:00-05:00",
          "2025-02-28T00:00:00-05:00",
          "2025-03-03T00:00:00-05:00",
          "2025-03-04T00:00:00-05:00",
          "2025-03-05T00:00:00-05:00",
          "2025-03-06T00:00:00-05:00",
          "2025-03-07T00:00:00-05:00",
          "2025-03-10T00:00:00-04:00",
          "2025-03-11T00:00:00-04:00",
          "2025-03-12T00:00:00-04:00",
          "2025-03-13T00:00:00-04:00",
          "2025-03-14T00:00:00-04:00",
          "2025-03-17T00:00:00-04:00",
          "2025-03-18T00:00:00-04:00",
          "2025-03-19T00:00:00-04:00",
          "2025-03-20T00:00:00-04:00",
          "2025-03-21T00:00:00-04:00",
          "2025-03-24T00:00:00-04:00",
          "2025-03-25T00:00:00-04:00",
          "2025-03-26T00:00:00-04:00",
          "2025-03-27T00:00:00-04:00",
          "2025-03-28T00:00:00-04:00",
          "2025-03-31T00:00:00-04:00",
          "2025-04-01T00:00:00-04:00",
          "2025-04-02T00:00:00-04:00",
          "2025-04-03T00:00:00-04:00",
          "2025-04-04T00:00:00-04:00",
          "2025-04-07T00:00:00-04:00",
          "2025-04-08T00:00:00-04:00",
          "2025-04-09T00:00:00-04:00",
          "2025-04-10T00:00:00-04:00",
          "2025-04-11T00:00:00-04:00",
          "2025-04-14T00:00:00-04:00",
          "2025-04-15T00:00:00-04:00",
          "2025-04-16T00:00:00-04:00",
          "2025-04-17T00:00:00-04:00",
          "2025-04-21T00:00:00-04:00",
          "2025-04-22T00:00:00-04:00",
          "2025-04-23T00:00:00-04:00",
          "2025-04-24T00:00:00-04:00",
          "2025-04-25T00:00:00-04:00",
          "2025-04-28T00:00:00-04:00",
          "2025-04-29T00:00:00-04:00",
          "2025-04-30T00:00:00-04:00",
          "2025-05-01T00:00:00-04:00",
          "2025-05-02T00:00:00-04:00",
          "2025-05-05T00:00:00-04:00",
          "2025-05-06T00:00:00-04:00",
          "2025-05-07T00:00:00-04:00",
          "2025-05-08T00:00:00-04:00",
          "2025-05-09T00:00:00-04:00",
          "2025-05-12T00:00:00-04:00",
          "2025-05-13T00:00:00-04:00",
          "2025-05-14T00:00:00-04:00",
          "2025-05-15T00:00:00-04:00",
          "2025-05-16T00:00:00-04:00",
          "2025-05-19T00:00:00-04:00",
          "2025-05-20T00:00:00-04:00",
          "2025-05-21T00:00:00-04:00",
          "2025-05-22T00:00:00-04:00",
          "2025-05-23T00:00:00-04:00",
          "2025-05-27T00:00:00-04:00",
          "2025-05-28T00:00:00-04:00",
          "2025-05-29T00:00:00-04:00",
          "2025-05-30T00:00:00-04:00"
         ],
         "xaxis": "x",
         "y": {
          "bdata": "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",
          "dtype": "f8"
         },
         "yaxis": "y"
        },
        {
         "name": "Volume",
         "type": "bar",
         "x": [
          "2024-05-30T00:00:00-04:00",
          "2024-05-31T00:00:00-04:00",
          "2024-06-03T00:00:00-04:00",
          "2024-06-04T00:00:00-04:00",
          "2024-06-05T00:00:00-04:00",
          "2024-06-06T00:00:00-04:00",
          "2024-06-07T00:00:00-04:00",
          "2024-06-10T00:00:00-04:00",
          "2024-06-11T00:00:00-04:00",
          "2024-06-12T00:00:00-04:00",
          "2024-06-13T00:00:00-04:00",
          "2024-06-14T00:00:00-04:00",
          "2024-06-17T00:00:00-04:00",
          "2024-06-18T00:00:00-04:00",
          "2024-06-20T00:00:00-04:00",
          "2024-06-21T00:00:00-04:00",
          "2024-06-24T00:00:00-04:00",
          "2024-06-25T00:00:00-04:00",
          "2024-06-26T00:00:00-04:00",
          "2024-06-27T00:00:00-04:00",
          "2024-06-28T00:00:00-04:00",
          "2024-07-01T00:00:00-04:00",
          "2024-07-02T00:00:00-04:00",
          "2024-07-03T00:00:00-04:00",
          "2024-07-05T00:00:00-04:00",
          "2024-07-08T00:00:00-04:00",
          "2024-07-09T00:00:00-04:00",
          "2024-07-10T00:00:00-04:00",
          "2024-07-11T00:00:00-04:00",
          "2024-07-12T00:00:00-04:00",
          "2024-07-15T00:00:00-04:00",
          "2024-07-16T00:00:00-04:00",
          "2024-07-17T00:00:00-04:00",
          "2024-07-18T00:00:00-04:00",
          "2024-07-19T00:00:00-04:00",
          "2024-07-22T00:00:00-04:00",
          "2024-07-23T00:00:00-04:00",
          "2024-07-24T00:00:00-04:00",
          "2024-07-25T00:00:00-04:00",
          "2024-07-26T00:00:00-04:00",
          "2024-07-29T00:00:00-04:00",
          "2024-07-30T00:00:00-04:00",
          "2024-07-31T00:00:00-04:00",
          "2024-08-01T00:00:00-04:00",
          "2024-08-02T00:00:00-04:00",
          "2024-08-05T00:00:00-04:00",
          "2024-08-06T00:00:00-04:00",
          "2024-08-07T00:00:00-04:00",
          "2024-08-08T00:00:00-04:00",
          "2024-08-09T00:00:00-04:00",
          "2024-08-12T00:00:00-04:00",
          "2024-08-13T00:00:00-04:00",
          "2024-08-14T00:00:00-04:00",
          "2024-08-15T00:00:00-04:00",
          "2024-08-16T00:00:00-04:00",
          "2024-08-19T00:00:00-04:00",
          "2024-08-20T00:00:00-04:00",
          "2024-08-21T00:00:00-04:00",
          "2024-08-22T00:00:00-04:00",
          "2024-08-23T00:00:00-04:00",
          "2024-08-26T00:00:00-04:00",
          "2024-08-27T00:00:00-04:00",
          "2024-08-28T00:00:00-04:00",
          "2024-08-29T00:00:00-04:00",
          "2024-08-30T00:00:00-04:00",
          "2024-09-03T00:00:00-04:00",
          "2024-09-04T00:00:00-04:00",
          "2024-09-05T00:00:00-04:00",
          "2024-09-06T00:00:00-04:00",
          "2024-09-09T00:00:00-04:00",
          "2024-09-10T00:00:00-04:00",
          "2024-09-11T00:00:00-04:00",
          "2024-09-12T00:00:00-04:00",
          "2024-09-13T00:00:00-04:00",
          "2024-09-16T00:00:00-04:00",
          "2024-09-17T00:00:00-04:00",
          "2024-09-18T00:00:00-04:00",
          "2024-09-19T00:00:00-04:00",
          "2024-09-20T00:00:00-04:00",
          "2024-09-23T00:00:00-04:00",
          "2024-09-24T00:00:00-04:00",
          "2024-09-25T00:00:00-04:00",
          "2024-09-26T00:00:00-04:00",
          "2024-09-27T00:00:00-04:00",
          "2024-09-30T00:00:00-04:00",
          "2024-10-01T00:00:00-04:00",
          "2024-10-02T00:00:00-04:00",
          "2024-10-03T00:00:00-04:00",
          "2024-10-04T00:00:00-04:00",
          "2024-10-07T00:00:00-04:00",
          "2024-10-08T00:00:00-04:00",
          "2024-10-09T00:00:00-04:00",
          "2024-10-10T00:00:00-04:00",
          "2024-10-11T00:00:00-04:00",
          "2024-10-14T00:00:00-04:00",
          "2024-10-15T00:00:00-04:00",
          "2024-10-16T00:00:00-04:00",
          "2024-10-17T00:00:00-04:00",
          "2024-10-18T00:00:00-04:00",
          "2024-10-21T00:00:00-04:00",
          "2024-10-22T00:00:00-04:00",
          "2024-10-23T00:00:00-04:00",
          "2024-10-24T00:00:00-04:00",
          "2024-10-25T00:00:00-04:00",
          "2024-10-28T00:00:00-04:00",
          "2024-10-29T00:00:00-04:00",
          "2024-10-30T00:00:00-04:00",
          "2024-10-31T00:00:00-04:00",
          "2024-11-01T00:00:00-04:00",
          "2024-11-04T00:00:00-05:00",
          "2024-11-05T00:00:00-05:00",
          "2024-11-06T00:00:00-05:00",
          "2024-11-07T00:00:00-05:00",
          "2024-11-08T00:00:00-05:00",
          "2024-11-11T00:00:00-05:00",
          "2024-11-12T00:00:00-05:00",
          "2024-11-13T00:00:00-05:00",
          "2024-11-14T00:00:00-05:00",
          "2024-11-15T00:00:00-05:00",
          "2024-11-18T00:00:00-05:00",
          "2024-11-19T00:00:00-05:00",
          "2024-11-20T00:00:00-05:00",
          "2024-11-21T00:00:00-05:00",
          "2024-11-22T00:00:00-05:00",
          "2024-11-25T00:00:00-05:00",
          "2024-11-26T00:00:00-05:00",
          "2024-11-27T00:00:00-05:00",
          "2024-11-29T00:00:00-05:00",
          "2024-12-02T00:00:00-05:00",
          "2024-12-03T00:00:00-05:00",
          "2024-12-04T00:00:00-05:00",
          "2024-12-05T00:00:00-05:00",
          "2024-12-06T00:00:00-05:00",
          "2024-12-09T00:00:00-05:00",
          "2024-12-10T00:00:00-05:00",
          "2024-12-11T00:00:00-05:00",
          "2024-12-12T00:00:00-05:00",
          "2024-12-13T00:00:00-05:00",
          "2024-12-16T00:00:00-05:00",
          "2024-12-17T00:00:00-05:00",
          "2024-12-18T00:00:00-05:00",
          "2024-12-19T00:00:00-05:00",
          "2024-12-20T00:00:00-05:00",
          "2024-12-23T00:00:00-05:00",
          "2024-12-24T00:00:00-05:00",
          "2024-12-26T00:00:00-05:00",
          "2024-12-27T00:00:00-05:00",
          "2024-12-30T00:00:00-05:00",
          "2024-12-31T00:00:00-05:00",
          "2025-01-02T00:00:00-05:00",
          "2025-01-03T00:00:00-05:00",
          "2025-01-06T00:00:00-05:00",
          "2025-01-07T00:00:00-05:00",
          "2025-01-08T00:00:00-05:00",
          "2025-01-10T00:00:00-05:00",
          "2025-01-13T00:00:00-05:00",
          "2025-01-14T00:00:00-05:00",
          "2025-01-15T00:00:00-05:00",
          "2025-01-16T00:00:00-05:00",
          "2025-01-17T00:00:00-05:00",
          "2025-01-21T00:00:00-05:00",
          "2025-01-22T00:00:00-05:00",
          "2025-01-23T00:00:00-05:00",
          "2025-01-24T00:00:00-05:00",
          "2025-01-27T00:00:00-05:00",
          "2025-01-28T00:00:00-05:00",
          "2025-01-29T00:00:00-05:00",
          "2025-01-30T00:00:00-05:00",
          "2025-01-31T00:00:00-05:00",
          "2025-02-03T00:00:00-05:00",
          "2025-02-04T00:00:00-05:00",
          "2025-02-05T00:00:00-05:00",
          "2025-02-06T00:00:00-05:00",
          "2025-02-07T00:00:00-05:00",
          "2025-02-10T00:00:00-05:00",
          "2025-02-11T00:00:00-05:00",
          "2025-02-12T00:00:00-05:00",
          "2025-02-13T00:00:00-05:00",
          "2025-02-14T00:00:00-05:00",
          "2025-02-18T00:00:00-05:00",
          "2025-02-19T00:00:00-05:00",
          "2025-02-20T00:00:00-05:00",
          "2025-02-21T00:00:00-05:00",
          "2025-02-24T00:00:00-05:00",
          "2025-02-25T00:00:00-05:00",
          "2025-02-26T00:00:00-05:00",
          "2025-02-27T00:00:00-05:00",
          "2025-02-28T00:00:00-05:00",
          "2025-03-03T00:00:00-05:00",
          "2025-03-04T00:00:00-05:00",
          "2025-03-05T00:00:00-05:00",
          "2025-03-06T00:00:00-05:00",
          "2025-03-07T00:00:00-05:00",
          "2025-03-10T00:00:00-04:00",
          "2025-03-11T00:00:00-04:00",
          "2025-03-12T00:00:00-04:00",
          "2025-03-13T00:00:00-04:00",
          "2025-03-14T00:00:00-04:00",
          "2025-03-17T00:00:00-04:00",
          "2025-03-18T00:00:00-04:00",
          "2025-03-19T00:00:00-04:00",
          "2025-03-20T00:00:00-04:00",
          "2025-03-21T00:00:00-04:00",
          "2025-03-24T00:00:00-04:00",
          "2025-03-25T00:00:00-04:00",
          "2025-03-26T00:00:00-04:00",
          "2025-03-27T00:00:00-04:00",
          "2025-03-28T00:00:00-04:00",
          "2025-03-31T00:00:00-04:00",
          "2025-04-01T00:00:00-04:00",
          "2025-04-02T00:00:00-04:00",
          "2025-04-03T00:00:00-04:00",
          "2025-04-04T00:00:00-04:00",
          "2025-04-07T00:00:00-04:00",
          "2025-04-08T00:00:00-04:00",
          "2025-04-09T00:00:00-04:00",
          "2025-04-10T00:00:00-04:00",
          "2025-04-11T00:00:00-04:00",
          "2025-04-14T00:00:00-04:00",
          "2025-04-15T00:00:00-04:00",
          "2025-04-16T00:00:00-04:00",
          "2025-04-17T00:00:00-04:00",
          "2025-04-21T00:00:00-04:00",
          "2025-04-22T00:00:00-04:00",
          "2025-04-23T00:00:00-04:00",
          "2025-04-24T00:00:00-04:00",
          "2025-04-25T00:00:00-04:00",
          "2025-04-28T00:00:00-04:00",
          "2025-04-29T00:00:00-04:00",
          "2025-04-30T00:00:00-04:00",
          "2025-05-01T00:00:00-04:00",
          "2025-05-02T00:00:00-04:00",
          "2025-05-05T00:00:00-04:00",
          "2025-05-06T00:00:00-04:00",
          "2025-05-07T00:00:00-04:00",
          "2025-05-08T00:00:00-04:00",
          "2025-05-09T00:00:00-04:00",
          "2025-05-12T00:00:00-04:00",
          "2025-05-13T00:00:00-04:00",
          "2025-05-14T00:00:00-04:00",
          "2025-05-15T00:00:00-04:00",
          "2025-05-16T00:00:00-04:00",
          "2025-05-19T00:00:00-04:00",
          "2025-05-20T00:00:00-04:00",
          "2025-05-21T00:00:00-04:00",
          "2025-05-22T00:00:00-04:00",
          "2025-05-23T00:00:00-04:00",
          "2025-05-27T00:00:00-04:00",
          "2025-05-28T00:00:00-04:00",
          "2025-05-29T00:00:00-04:00",
          "2025-05-30T00:00:00-04:00"
         ],
         "xaxis": "x2",
         "y": {
          "bdata": "/CT6AhzTegT0KvwCKFvUAgBeOgNoYnQCHE0qAxQazAU0NUYKHErPCyxE1QXM/C0ELC6WBYTWwwRU4yIFmBewDtjLzwSsYmEDUFXyA5x49wJsgOsE1KyZA/i2dQPINzoC8NGZA0yUhQNEld0CdJ+7A8hn2wPkbCkDhK27A/yzkwJsB2sDqJvvAwz+7QJIgN8C7L5hAsCmrgPgKhADFMl6AvgSKgIYb3sCTH77AoiwuQNY2UoGuCogB1TvJgTwLskDDJ/PAgDygwJEQ0QCpMGhAphEgAKwOMQC6JOkArjYbAJ4U84BvHoSAsS8mgI0K04C2PPSAYhRJAJooUQC/AYYA1CTKAMI2f0CyPKcAui0LgJY4OIC4BUBBFg3EwNcWKgCWC08AogDMQLYuIkDxJG2AnTskQN0APsDXKv+EtAzOgMEnZgCXJSFAhwILwIQMgcCTD5AAwinxQPYt/UBKHkHAqxQOAL4zVoCVBTmATyPAALMC64BYJvkAXSNYAIoB9wDmA0IAghy9wEMfcQCJDMpAojAUAIY1h0DfLHaAXwTUAI8pSYCcGwcArQ+zgK0NdYDHAvkA3TMrQLE8awBTIlAA2T4ggLg2UgCYPSAAtxtaAK4D+UC/HutAvRB2wKw2qkCWIwoAkClGAKMhYIC7GZGAmCfXwWYsb0CICX/AXiXsgGMg94CyPhQApw+pQJs3mICyJkyAvBKqQJwRjMCKMmxAhwl9AHk6PkB0MwUA/CiDwPUTWIDfP2gA4SZygiwdG8CjIhiAeyanwFkSoYCfJAeAnxtWgIciVIDhBNmAmBXrwLAaW8C5Cs+AjSirQPsTfUCJLxZAsDJXwL89EYEbAwVBIBv2AUkftIDMByXA6yfQgMogKcF0DSDBBQQtgI8R1EDnEgGBoTbWgQkrK8CzI5cArSfyAFA4l0C0E35AYCtMwOkW7ICFBYyA8gGcALk+OgCqGXrAeQd7QFYuisDwC0PA/Sf3ALAAKYCQPRzAng1YwOA+M8C1OQ0A9Ci0ALgPrECQBTCAiC4SwS4w4kELGa6A+xnqANQK5UDuIrdApB3hwL42j0DtJbpArhGnAXs9KMCoFQOAjTpDQKQBTYCaJVfAmRj5AMcnSsCbOEjAngMKgZ0P4EHfIWQCWwrNAd8qP0KwL1DB3wqNgXEhQoGHHIPA7BxjwOcTA8D5DvJAhBbKAOwoicDmOjRAtw5RwI8LE8C0PExAiTUHQPEVGsDqEwFBoQjHQR0gA0DfMkVBDQ/AgMMPiwCOCTNA7QSGAPopvACfBivAuw7QwNUDMACWHKIAhiAhwOAO8kChMqsBPTkWgM01LMCwEAQA90woAE=",
          "dtype": "i4"
         },
         "yaxis": "y2"
        }
       ],
       "layout": {
        "template": {
         "data": {
          "bar": [
           {
            "error_x": {
             "color": "#2a3f5f"
            },
            "error_y": {
             "color": "#2a3f5f"
            },
            "marker": {
             "line": {
              "color": "white",
              "width": 0.5
             },
             "pattern": {
              "fillmode": "overlay",
              "size": 10,
              "solidity": 0.2
             }
            },
            "type": "bar"
           }
          ],
          "barpolar": [
           {
            "marker": {
             "line": {
              "color": "white",
              "width": 0.5
             },
             "pattern": {
              "fillmode": "overlay",
              "size": 10,
              "solidity": 0.2
             }
            },
            "type": "barpolar"
           }
          ],
          "carpet": [
           {
            "aaxis": {
             "endlinecolor": "#2a3f5f",
             "gridcolor": "#C8D4E3",
             "linecolor": "#C8D4E3",
             "minorgridcolor": "#C8D4E3",
             "startlinecolor": "#2a3f5f"
            },
            "baxis": {
             "endlinecolor": "#2a3f5f",
             "gridcolor": "#C8D4E3",
             "linecolor": "#C8D4E3",
             "minorgridcolor": "#C8D4E3",
             "startlinecolor": "#2a3f5f"
            },
            "type": "carpet"
           }
          ],
          "choropleth": [
           {
            "colorbar": {
             "outlinewidth": 0,
             "ticks": ""
            },
            "type": "choropleth"
           }
          ],
          "contour": [
           {
            "colorbar": {
             "outlinewidth": 0,
             "ticks": ""
            },
            "colorscale": [
             [
              0,
              "#0d0887"
             ],
             [
              0.1111111111111111,
              "#46039f"
             ],
             [
              0.2222222222222222,
              "#7201a8"
             ],
             [
              0.3333333333333333,
              "#9c179e"
             ],
             [
              0.4444444444444444,
              "#bd3786"
             ],
             [
              0.5555555555555556,
              "#d8576b"
             ],
             [
              0.6666666666666666,
              "#ed7953"
             ],
             [
              0.7777777777777778,
              "#fb9f3a"
             ],
             [
              0.8888888888888888,
              "#fdca26"
             ],
             [
              1,
              "#f0f921"
             ]
            ],
            "type": "contour"
           }
          ],
          "contourcarpet": [
           {
            "colorbar": {
             "outlinewidth": 0,
             "ticks": ""
            },
            "type": "contourcarpet"
           }
          ],
          "heatmap": [
           {
            "colorbar": {
             "outlinewidth": 0,
             "ticks": ""
            },
            "colorscale": [
             [
              0,
              "#0d0887"
             ],
             [
              0.1111111111111111,
              "#46039f"
             ],
             [
              0.2222222222222222,
              "#7201a8"
             ],
             [
              0.3333333333333333,
              "#9c179e"
             ],
             [
              0.4444444444444444,
              "#bd3786"
             ],
             [
              0.5555555555555556,
              "#d8576b"
             ],
             [
              0.6666666666666666,
              "#ed7953"
             ],
             [
              0.7777777777777778,
              "#fb9f3a"
             ],
             [
              0.8888888888888888,
              "#fdca26"
             ],
             [
              1,
              "#f0f921"
             ]
            ],
            "type": "heatmap"
           }
          ],
          "histogram": [
           {
            "marker": {
             "pattern": {
              "fillmode": "overlay",
              "size": 10,
              "solidity": 0.2
             }
            },
            "type": "histogram"
           }
          ],
          "histogram2d": [
           {
            "colorbar": {
             "outlinewidth": 0,
             "ticks": ""
            },
            "colorscale": [
             [
              0,
              "#0d0887"
             ],
             [
              0.1111111111111111,
              "#46039f"
             ],
             [
              0.2222222222222222,
              "#7201a8"
             ],
             [
              0.3333333333333333,
              "#9c179e"
             ],
             [
              0.4444444444444444,
              "#bd3786"
             ],
             [
              0.5555555555555556,
              "#d8576b"
             ],
             [
              0.6666666666666666,
              "#ed7953"
             ],
             [
              0.7777777777777778,
              "#fb9f3a"
             ],
             [
              0.8888888888888888,
              "#fdca26"
             ],
             [
              1,
              "#f0f921"
             ]
            ],
            "type": "histogram2d"
           }
          ],
          "histogram2dcontour": [
           {
            "colorbar": {
             "outlinewidth": 0,
             "ticks": ""
            },
            "colorscale": [
             [
              0,
              "#0d0887"
             ],
             [
              0.1111111111111111,
              "#46039f"
             ],
             [
              0.2222222222222222,
              "#7201a8"
             ],
             [
              0.3333333333333333,
              "#9c179e"
             ],
             [
              0.4444444444444444,
              "#bd3786"
             ],
             [
              0.5555555555555556,
              "#d8576b"
             ],
             [
              0.6666666666666666,
              "#ed7953"
             ],
             [
              0.7777777777777778,
              "#fb9f3a"
             ],
             [
              0.8888888888888888,
              "#fdca26"
             ],
             [
              1,
              "#f0f921"
             ]
            ],
            "type": "histogram2dcontour"
           }
          ],
          "mesh3d": [
           {
            "colorbar": {
             "outlinewidth": 0,
             "ticks": ""
            },
            "type": "mesh3d"
           }
          ],
          "parcoords": [
           {
            "line": {
             "colorbar": {
              "outlinewidth": 0,
              "ticks": ""
             }
            },
            "type": "parcoords"
           }
          ],
          "pie": [
           {
            "automargin": true,
            "type": "pie"
           }
          ],
          "scatter": [
           {
            "fillpattern": {
             "fillmode": "overlay",
             "size": 10,
             "solidity": 0.2
            },
            "type": "scatter"
           }
          ],
          "scatter3d": [
           {
            "line": {
             "colorbar": {
              "outlinewidth": 0,
              "ticks": ""
             }
            },
            "marker": {
             "colorbar": {
              "outlinewidth": 0,
              "ticks": ""
             }
            },
            "type": "scatter3d"
           }
          ],
          "scattercarpet": [
           {
            "marker": {
             "colorbar": {
              "outlinewidth": 0,
              "ticks": ""
             }
            },
            "type": "scattercarpet"
           }
          ],
          "scattergeo": [
           {
            "marker": {
             "colorbar": {
              "outlinewidth": 0,
              "ticks": ""
             }
            },
            "type": "scattergeo"
           }
          ],
          "scattergl": [
           {
            "marker": {
             "colorbar": {
              "outlinewidth": 0,
              "ticks": ""
             }
            },
            "type": "scattergl"
           }
          ],
          "scattermap": [
           {
            "marker": {
             "colorbar": {
              "outlinewidth": 0,
              "ticks": ""
             }
            },
            "type": "scattermap"
           }
          ],
          "scattermapbox": [
           {
            "marker": {
             "colorbar": {
              "outlinewidth": 0,
              "ticks": ""
             }
            },
            "type": "scattermapbox"
           }
          ],
          "scatterpolar": [
           {
            "marker": {
             "colorbar": {
              "outlinewidth": 0,
              "ticks": ""
             }
            },
            "type": "scatterpolar"
           }
          ],
          "scatterpolargl": [
           {
            "marker": {
             "colorbar": {
              "outlinewidth": 0,
              "ticks": ""
             }
            },
            "type": "scatterpolargl"
           }
          ],
          "scatterternary": [
           {
            "marker": {
             "colorbar": {
              "outlinewidth": 0,
              "ticks": ""
             }
            },
            "type": "scatterternary"
           }
          ],
          "surface": [
           {
            "colorbar": {
             "outlinewidth": 0,
             "ticks": ""
            },
            "colorscale": [
             [
              0,
              "#0d0887"
             ],
             [
              0.1111111111111111,
              "#46039f"
             ],
             [
              0.2222222222222222,
              "#7201a8"
             ],
             [
              0.3333333333333333,
              "#9c179e"
             ],
             [
              0.4444444444444444,
              "#bd3786"
             ],
             [
              0.5555555555555556,
              "#d8576b"
             ],
             [
              0.6666666666666666,
              "#ed7953"
             ],
             [
              0.7777777777777778,
              "#fb9f3a"
             ],
             [
              0.8888888888888888,
              "#fdca26"
             ],
             [
              1,
              "#f0f921"
             ]
            ],
            "type": "surface"
           }
          ],
          "table": [
           {
            "cells": {
             "fill": {
              "color": "#EBF0F8"
             },
             "line": {
              "color": "white"
             }
            },
            "header": {
             "fill": {
              "color": "#C8D4E3"
             },
             "line": {
              "color": "white"
             }
            },
            "type": "table"
           }
          ]
         },
         "layout": {
          "annotationdefaults": {
           "arrowcolor": "#2a3f5f",
           "arrowhead": 0,
           "arrowwidth": 1
          },
          "autotypenumbers": "strict",
          "coloraxis": {
           "colorbar": {
            "outlinewidth": 0,
            "ticks": ""
           }
          },
          "colorscale": {
           "diverging": [
            [
             0,
             "#8e0152"
            ],
            [
             0.1,
             "#c51b7d"
            ],
            [
             0.2,
             "#de77ae"
            ],
            [
             0.3,
             "#f1b6da"
            ],
            [
             0.4,
             "#fde0ef"
            ],
            [
             0.5,
             "#f7f7f7"
            ],
            [
             0.6,
             "#e6f5d0"
            ],
            [
             0.7,
             "#b8e186"
            ],
            [
             0.8,
             "#7fbc41"
            ],
            [
             0.9,
             "#4d9221"
            ],
            [
             1,
             "#276419"
            ]
           ],
           "sequential": [
            [
             0,
             "#0d0887"
            ],
            [
             0.1111111111111111,
             "#46039f"
            ],
            [
             0.2222222222222222,
             "#7201a8"
            ],
            [
             0.3333333333333333,
             "#9c179e"
            ],
            [
             0.4444444444444444,
             "#bd3786"
            ],
            [
             0.5555555555555556,
             "#d8576b"
            ],
            [
             0.6666666666666666,
             "#ed7953"
            ],
            [
             0.7777777777777778,
             "#fb9f3a"
            ],
            [
             0.8888888888888888,
             "#fdca26"
            ],
            [
             1,
             "#f0f921"
            ]
           ],
           "sequentialminus": [
            [
             0,
             "#0d0887"
            ],
            [
             0.1111111111111111,
             "#46039f"
            ],
            [
             0.2222222222222222,
             "#7201a8"
            ],
            [
             0.3333333333333333,
             "#9c179e"
            ],
            [
             0.4444444444444444,
             "#bd3786"
            ],
            [
             0.5555555555555556,
             "#d8576b"
            ],
            [
             0.6666666666666666,
             "#ed7953"
            ],
            [
             0.7777777777777778,
             "#fb9f3a"
            ],
            [
             0.8888888888888888,
             "#fdca26"
            ],
            [
             1,
             "#f0f921"
            ]
           ]
          },
          "colorway": [
           "#636efa",
           "#EF553B",
           "#00cc96",
           "#ab63fa",
           "#FFA15A",
           "#19d3f3",
           "#FF6692",
           "#B6E880",
           "#FF97FF",
           "#FECB52"
          ],
          "font": {
           "color": "#2a3f5f"
          },
          "geo": {
           "bgcolor": "white",
           "lakecolor": "white",
           "landcolor": "white",
           "showlakes": true,
           "showland": true,
           "subunitcolor": "#C8D4E3"
          },
          "hoverlabel": {
           "align": "left"
          },
          "hovermode": "closest",
          "mapbox": {
           "style": "light"
          },
          "paper_bgcolor": "white",
          "plot_bgcolor": "white",
          "polar": {
           "angularaxis": {
            "gridcolor": "#EBF0F8",
            "linecolor": "#EBF0F8",
            "ticks": ""
           },
           "bgcolor": "white",
           "radialaxis": {
            "gridcolor": "#EBF0F8",
            "linecolor": "#EBF0F8",
            "ticks": ""
           }
          },
          "scene": {
           "xaxis": {
            "backgroundcolor": "white",
            "gridcolor": "#DFE8F3",
            "gridwidth": 2,
            "linecolor": "#EBF0F8",
            "showbackground": true,
            "ticks": "",
            "zerolinecolor": "#EBF0F8"
           },
           "yaxis": {
            "backgroundcolor": "white",
            "gridcolor": "#DFE8F3",
            "gridwidth": 2,
            "linecolor": "#EBF0F8",
            "showbackground": true,
            "ticks": "",
            "zerolinecolor": "#EBF0F8"
           },
           "zaxis": {
            "backgroundcolor": "white",
            "gridcolor": "#DFE8F3",
            "gridwidth": 2,
            "linecolor": "#EBF0F8",
            "showbackground": true,
            "ticks": "",
            "zerolinecolor": "#EBF0F8"
           }
          },
          "shapedefaults": {
           "line": {
            "color": "#2a3f5f"
           }
          },
          "ternary": {
           "aaxis": {
            "gridcolor": "#DFE8F3",
            "linecolor": "#A2B1C6",
            "ticks": ""
           },
           "baxis": {
            "gridcolor": "#DFE8F3",
            "linecolor": "#A2B1C6",
            "ticks": ""
           },
           "bgcolor": "white",
           "caxis": {
            "gridcolor": "#DFE8F3",
            "linecolor": "#A2B1C6",
            "ticks": ""
           }
          },
          "title": {
           "x": 0.05
          },
          "xaxis": {
           "automargin": true,
           "gridcolor": "#EBF0F8",
           "linecolor": "#EBF0F8",
           "ticks": "",
           "title": {
            "standoff": 15
           },
           "zerolinecolor": "#EBF0F8",
           "zerolinewidth": 2
          },
          "yaxis": {
           "automargin": true,
           "gridcolor": "#EBF0F8",
           "linecolor": "#EBF0F8",
           "ticks": "",
           "title": {
            "standoff": 15
           },
           "zerolinecolor": "#EBF0F8",
           "zerolinewidth": 2
          }
         }
        },
        "title": {
         "text": "AAPL Stock Price"
        },
        "xaxis": {
         "anchor": "y",
         "domain": [
          0,
          1
         ],
         "matches": "x2",
         "showticklabels": false,
         "title": {
          "text": "Date"
         }
        },
        "xaxis2": {
         "anchor": "y2",
         "domain": [
          0,
          1
         ]
        },
        "yaxis": {
         "anchor": "x",
         "domain": [
          0.32099999999999995,
          0.9999999999999999
         ],
         "title": {
          "text": "Price"
         }
        },
        "yaxis2": {
         "anchor": "x2",
         "domain": [
          0,
          0.291
         ]
        }
       }
      }
     },
     "metadata": {},
     "output_type": "display_data"
    }
   ],
   "source": [
    "# Plot the data\n",
    "analyzer.plot_stock_data(data_with_indicators)"
   ]
  },
  {
   "cell_type": "code",
   "execution_count": 12,
   "id": "faea209a",
   "metadata": {},
   "outputs": [
    {
     "name": "stdout",
     "output_type": "stream",
     "text": [
      "\n",
      "News Impact Analysis:\n",
      "\n",
      "Date: 2023-09-12\n",
      "Headline: Apple announces new iPhone\n",
      "Price Change: -1.44%\n",
      "Volatility: 1.05%\n",
      "Volume Change: -2.92%\n",
      "\n",
      "Date: 2023-10-26\n",
      "Headline: Apple beats earnings\n",
      "Price Change: -1.57%\n",
      "Volatility: 1.55%\n",
      "Volume Change: -8.66%\n"
     ]
    }
   ],
   "source": [
    "# Example news impact analysis\n",
    "sample_news = pd.DataFrame({\n",
    "    'headline': ['Apple announces new iPhone', 'Apple beats earnings'],\n",
    "    'date': ['2023-09-12', '2023-10-26'],\n",
    "    'stock': ['AAPL', 'AAPL']\n",
    "})\n",
    "\n",
    "impact_analysis = analyzer.analyze_news_impact(sample_news, data)\n",
    "print(\"\\nNews Impact Analysis:\")\n",
    "for date, impact in impact_analysis.items():\n",
    "    # print(f\"Indicators: {data_with_indicators}\")\n",
    "    print(f\"\\nDate: {date}\")\n",
    "    print(f\"Headline: {impact['headline']}\")\n",
    "    print(f\"Price Change: {impact['price_change']:.2f}%\")\n",
    "    print(f\"Volatility: {impact['volatility']:.2f}%\")\n",
    "    print(f\"Volume Change: {impact['volume_change']:.2f}%\")"
   ]
  }
 ],
 "metadata": {
  "kernelspec": {
   "display_name": "Python 3",
   "language": "python",
   "name": "python3"
  },
  "language_info": {
   "codemirror_mode": {
    "name": "ipython",
    "version": 3
   },
   "file_extension": ".py",
   "mimetype": "text/x-python",
   "name": "python",
   "nbconvert_exporter": "python",
   "pygments_lexer": "ipython3",
   "version": "3.13.3"
  }
 },
 "nbformat": 4,
 "nbformat_minor": 5
}
