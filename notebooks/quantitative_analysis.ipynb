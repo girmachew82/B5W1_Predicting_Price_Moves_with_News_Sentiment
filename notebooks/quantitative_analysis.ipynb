{
 "cells": [
  {
   "cell_type": "markdown",
   "id": "03620050",
   "metadata": {},
   "source": [
    "# **Quantitative analysis using pynance and TaLib**"
   ]
  },
  {
   "cell_type": "markdown",
   "id": "162f7698",
   "metadata": {},
   "source": [
    "## **Import Packages**"
   ]
  },
  {
   "cell_type": "code",
   "execution_count": 1,
   "id": "151fbfeb",
   "metadata": {},
   "outputs": [],
   "source": [
    "import pandas as pd\n",
    "import numpy as np\n",
    "import matplotlib.pyplot as plt\n",
    "import seaborn as sns\n",
    "from scipy import stats\n",
    "import os\n",
    "import sys"
   ]
  },
  {
   "cell_type": "code",
   "execution_count": 2,
   "id": "2d831901",
   "metadata": {},
   "outputs": [],
   "source": [
    "sys.path.append(os.path.abspath(os.path.join('..')))"
   ]
  },
  {
   "cell_type": "markdown",
   "id": "4e1df514",
   "metadata": {},
   "source": [
    "### **Load data**"
   ]
  },
  {
   "cell_type": "code",
   "execution_count": 3,
   "id": "0ca10e16",
   "metadata": {},
   "outputs": [
    {
     "name": "stdout",
     "output_type": "stream",
     "text": [
      "✅ Successfully loaded dataset: ../data/AAPL_historical_data.csv\n",
      "✅ Successfully loaded dataset: ../data/raw_analyst_ratings.csv\n"
     ]
    }
   ],
   "source": [
    "from scripts.RawAnalysis import RawAnalysis\n",
    "\n",
    "analyzer = RawAnalysis()\n",
    "df_stock = analyzer.load_data('../data/AAPL_historical_data.csv')\n",
    "df_news = analyzer.load_data('../data/raw_analyst_ratings.csv')"
   ]
  },
  {
   "cell_type": "markdown",
   "id": "6d8a3bbc",
   "metadata": {},
   "source": [
    "### **Discriptive Statistics**"
   ]
  },
  {
   "cell_type": "code",
   "execution_count": 4,
   "id": "e47aed39",
   "metadata": {},
   "outputs": [
    {
     "data": {
      "text/html": [
       "<div>\n",
       "<style scoped>\n",
       "    .dataframe tbody tr th:only-of-type {\n",
       "        vertical-align: middle;\n",
       "    }\n",
       "\n",
       "    .dataframe tbody tr th {\n",
       "        vertical-align: top;\n",
       "    }\n",
       "\n",
       "    .dataframe thead th {\n",
       "        text-align: right;\n",
       "    }\n",
       "</style>\n",
       "<table border=\"1\" class=\"dataframe\">\n",
       "  <thead>\n",
       "    <tr style=\"text-align: right;\">\n",
       "      <th></th>\n",
       "      <th>Date</th>\n",
       "      <th>Open</th>\n",
       "      <th>High</th>\n",
       "      <th>Low</th>\n",
       "      <th>Close</th>\n",
       "      <th>Adj Close</th>\n",
       "      <th>Volume</th>\n",
       "      <th>Dividends</th>\n",
       "      <th>Stock Splits</th>\n",
       "    </tr>\n",
       "  </thead>\n",
       "  <tbody>\n",
       "    <tr>\n",
       "      <th>0</th>\n",
       "      <td>1980-12-12</td>\n",
       "      <td>0.128348</td>\n",
       "      <td>0.128906</td>\n",
       "      <td>0.128348</td>\n",
       "      <td>0.128348</td>\n",
       "      <td>0.098943</td>\n",
       "      <td>469033600</td>\n",
       "      <td>0.0</td>\n",
       "      <td>0.0</td>\n",
       "    </tr>\n",
       "    <tr>\n",
       "      <th>1</th>\n",
       "      <td>1980-12-15</td>\n",
       "      <td>0.122210</td>\n",
       "      <td>0.122210</td>\n",
       "      <td>0.121652</td>\n",
       "      <td>0.121652</td>\n",
       "      <td>0.093781</td>\n",
       "      <td>175884800</td>\n",
       "      <td>0.0</td>\n",
       "      <td>0.0</td>\n",
       "    </tr>\n",
       "    <tr>\n",
       "      <th>2</th>\n",
       "      <td>1980-12-16</td>\n",
       "      <td>0.113281</td>\n",
       "      <td>0.113281</td>\n",
       "      <td>0.112723</td>\n",
       "      <td>0.112723</td>\n",
       "      <td>0.086898</td>\n",
       "      <td>105728000</td>\n",
       "      <td>0.0</td>\n",
       "      <td>0.0</td>\n",
       "    </tr>\n",
       "    <tr>\n",
       "      <th>3</th>\n",
       "      <td>1980-12-17</td>\n",
       "      <td>0.115513</td>\n",
       "      <td>0.116071</td>\n",
       "      <td>0.115513</td>\n",
       "      <td>0.115513</td>\n",
       "      <td>0.089049</td>\n",
       "      <td>86441600</td>\n",
       "      <td>0.0</td>\n",
       "      <td>0.0</td>\n",
       "    </tr>\n",
       "    <tr>\n",
       "      <th>4</th>\n",
       "      <td>1980-12-18</td>\n",
       "      <td>0.118862</td>\n",
       "      <td>0.119420</td>\n",
       "      <td>0.118862</td>\n",
       "      <td>0.118862</td>\n",
       "      <td>0.091630</td>\n",
       "      <td>73449600</td>\n",
       "      <td>0.0</td>\n",
       "      <td>0.0</td>\n",
       "    </tr>\n",
       "  </tbody>\n",
       "</table>\n",
       "</div>"
      ],
      "text/plain": [
       "         Date      Open      High       Low     Close  Adj Close     Volume  \\\n",
       "0  1980-12-12  0.128348  0.128906  0.128348  0.128348   0.098943  469033600   \n",
       "1  1980-12-15  0.122210  0.122210  0.121652  0.121652   0.093781  175884800   \n",
       "2  1980-12-16  0.113281  0.113281  0.112723  0.112723   0.086898  105728000   \n",
       "3  1980-12-17  0.115513  0.116071  0.115513  0.115513   0.089049   86441600   \n",
       "4  1980-12-18  0.118862  0.119420  0.118862  0.118862   0.091630   73449600   \n",
       "\n",
       "   Dividends  Stock Splits  \n",
       "0        0.0           0.0  \n",
       "1        0.0           0.0  \n",
       "2        0.0           0.0  \n",
       "3        0.0           0.0  \n",
       "4        0.0           0.0  "
      ]
     },
     "execution_count": 4,
     "metadata": {},
     "output_type": "execute_result"
    }
   ],
   "source": [
    "df_stock.head()"
   ]
  },
  {
   "cell_type": "code",
   "execution_count": 5,
   "id": "e3aa6e1f",
   "metadata": {},
   "outputs": [
    {
     "data": {
      "text/plain": [
       "(10998, 9)"
      ]
     },
     "execution_count": 5,
     "metadata": {},
     "output_type": "execute_result"
    }
   ],
   "source": [
    "df_stock.shape"
   ]
  },
  {
   "cell_type": "code",
   "execution_count": 6,
   "id": "c2aa6a50",
   "metadata": {},
   "outputs": [
    {
     "name": "stdout",
     "output_type": "stream",
     "text": [
      "<class 'pandas.core.frame.DataFrame'>\n",
      "RangeIndex: 10998 entries, 0 to 10997\n",
      "Data columns (total 9 columns):\n",
      " #   Column        Non-Null Count  Dtype  \n",
      "---  ------        --------------  -----  \n",
      " 0   Date          10998 non-null  object \n",
      " 1   Open          10998 non-null  float64\n",
      " 2   High          10998 non-null  float64\n",
      " 3   Low           10998 non-null  float64\n",
      " 4   Close         10998 non-null  float64\n",
      " 5   Adj Close     10998 non-null  float64\n",
      " 6   Volume        10998 non-null  int64  \n",
      " 7   Dividends     10998 non-null  float64\n",
      " 8   Stock Splits  10998 non-null  float64\n",
      "dtypes: float64(7), int64(1), object(1)\n",
      "memory usage: 773.4+ KB\n"
     ]
    }
   ],
   "source": [
    "df_stock.info()"
   ]
  },
  {
   "cell_type": "code",
   "execution_count": 7,
   "id": "543cce5c",
   "metadata": {},
   "outputs": [
    {
     "data": {
      "text/plain": [
       "Date            0\n",
       "Open            0\n",
       "High            0\n",
       "Low             0\n",
       "Close           0\n",
       "Adj Close       0\n",
       "Volume          0\n",
       "Dividends       0\n",
       "Stock Splits    0\n",
       "dtype: int64"
      ]
     },
     "execution_count": 7,
     "metadata": {},
     "output_type": "execute_result"
    }
   ],
   "source": [
    "# Count of missing values\n",
    "df_stock.isnull().sum()"
   ]
  },
  {
   "cell_type": "code",
   "execution_count": 8,
   "id": "f1e98f0a",
   "metadata": {},
   "outputs": [],
   "source": [
    "from scripts.StockAnalysis import StockAnalyzer\n",
    "analyzer = StockAnalyzer('AAPL')\n"
   ]
  },
  {
   "cell_type": "code",
   "execution_count": 9,
   "id": "e7cdc156",
   "metadata": {},
   "outputs": [],
   "source": [
    "# Get historical data\n",
    "data = analyzer.get_historical_data(period='1y')"
   ]
  },
  {
   "cell_type": "code",
   "execution_count": 10,
   "id": "7bb1e4fb",
   "metadata": {},
   "outputs": [],
   "source": [
    "# Calculate technical indicators\n",
    "data_with_indicators = analyzer.calculate_technical_indicators(data)"
   ]
  },
  {
   "cell_type": "code",
   "execution_count": 11,
   "id": "9c590d6d",
   "metadata": {},
   "outputs": [
    {
     "data": {
      "application/vnd.plotly.v1+json": {
       "config": {
        "plotlyServerURL": "https://plot.ly"
       },
       "data": [
        {
         "close": {
          "bdata": "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",
          "dtype": "f8"
         },
         "high": {
          "bdata": "5sZMhKJCaEA0FaxCJU1oQMA+FVl4f2hAaeiR2LpyaEC/Q96XvoBoQPYe19k1jGhAGMFIHkPGaUBF/sGdmWVrQIvRR6m292pAaF1mbWPFakCOhZ0uyT1rQGFCDuCXM2tABziBncSnakB+qd3W6lxqQPF5GX23dmpACDSZaaxMakBldhLbg7tqQGrcinaL12pA1buK6w3iakC5z9qE6w9rQHjyKC5Va2tAAAAAQJmQa0Ao8CsuqyxsQAQuJptCWWxA2x5RC6GKbEDYpbtP1/9sQFTdSTPd6WxAOeN6i9PxbED03GLVBYRtQG0FFjVyZW1AyzeO/T3MbEDfD7QpwatsQNHTDuzQN2xAjA2VtAdXbEDFCkunRjxsQKDrMUkd+GtAfjmyn016a0CkzAVI/E5rQFJ7RxTvSGtAn1MUiL1pa0Cq0OKF5thrQJ7AHADs7WtAM/tDXZgRbEB92GmSMpBqQPu9ZoBmIGpAdwBdNaiUakDiM60vfqZqQDqPpGir+GpASgMqD7dXa0CR14q1m6NrQOn23uj1x2tARn0CzPARbEB+FTJ+IkFsQIYWXmFZJmxAjpy5D/pLbEC3iUspzmVsQPzdHgxJcWxAS52rhnVtbECH8lrhe09sQCDuPViMgWxAS8HUK8GhbEB++H0PVQNtQAjFzXP5smxA5t8gulSGbEAX8EGwGaBrQJb3EcsVFmxAfVZU624ObEAh22pr1o9rQEUnN9CIlmtAwGU8id/Ja0D+qRa+ithrQILLWs8q6GtAqsWjDLEOa0Bm4e63fARrQBiYF6nBvWtArsRW3XqgbEAa6SyuwAhtQGSs9TyulGxAHWkDD36RbECU4dSZzU9sQNi09SBjdmxAaV5Zu+mWbEAAAAAg4gVtQAJbBOoOm2xAA0X8sVpSbEC2xp8pf0BsQC8p9JBxZmxAzh5pWMgcbEATmWmZByZsQG04UFk/nmxAZcLajEaWbECE8a7gZ5NsQAZiUqli3WxAXf6oTA+VbUCb/2I+0ulsQOjP7ff8IG1Ab87NQ0lrbUA7Z/PhpoBtQAcjd+uPbG1AAr7+kB9KbUC+5oozXsBsQDjPxe/lDG1ANtf3lQw9bUAyD7FPSzBtQMH+s6veFG1AIqfzY8ygbEBOCaq78BFsQOHjJZ5OwGtAOJANJ0zla0Dfq+5e5ihsQFkClQWeYmxAsPiO/IKDbEDEimEFBSVsQJ61hBCCIWxAQ9artlhDbEAtILcvN4psQDQTPSb3S2xA19OkF/2lbEAJ5SZwZbNsQJO5iKoNrGxArGNba2WzbEDrsDveRcVsQA/LN8IJFm1AKmUTchlgbUDL+4ZE7mNtQEbHnWmbp21Ad9Lot7wGbkDEzdw0oEVuQKyzl9C4cG5AykvjzXJ+bkBWdylWUoFuQCxpExek1G5As4BrM5vzbkCoKQ5ISUZvQEmrin+GBG9ASgvNIRUWb0BKJwlMzVhvQNlsllkDp29AGLrt7mC1b0CNjNIumGxvQOh9PRJdzG9A+DFUAh3hb0Dmt9EGaxlwQOAcu9qVN3BABlpUSD0hcEA4IVOfepxvQBa8pb50lW9A72YfoQQQb0AOOsPV9HJuQIExHpGD125ApoDy57CebkD+v6jW82NuQHFbMj+g8m1AZExfbV5DbUDXZCwjqHFtQB6i8IJRzG1ASzJSyv2tbUCnwSJWZPdsQEkEu2go/GtAJQF0qJTya0Azxccwek9sQALOqvDIImxAkvDLGuzybEB5QMlzlfNtQCTPq6QM6W1AybQ3qrwGbkArYgqIC9NuQDi7vDG16GxACm+RHjUSbUBPx6rOhQNtQEc555CYJ21A7OH+6/otbUB5ajBVN8lsQBozwX+AXW1ANdLIKMqUbUCyUFlPuUBuQNZXxy5Pp25AVboLInybbkBJq/OEArZuQOBm2S6ezm5Ah/YHcKgLb0B+azQ+FxFvQHZrVd6FNW9AJY73zheVbkA5Vg8kj0RuQAk8XfG7OG5Abou7oLt2bkCly7D1LfhtQNrtWs+vh21AM9JVO42xbUA65w9zuSFuQBJwlCA5e21ANXS0W2oxbEAWbizztK5rQM4KiO/KEWtAQQ6qEG+1akBRek5JBd5qQIu2jXvI22pAZDsq3CZPa0CjMkTBkCZrQBT+fWK1UWtAvpcb9BOma0D227X+zvlrQGA4c641F2xAYUfuREAWbEBSNiFYivBrQCUkvm5iKmxASYk9vmLsa0AqdI2NpBxsQCrvUh785mlAC1XXn8jzaEAucsjbqTxoQMysVkDnwmdAmUAn3hwLaUD/i4sZzFBoQKnQVNbq6GhAM55U9SeVakBKc1+NymdpQJFk2CP9DWlAK+gVRzrSaECu8zFiejFoQPiRF4duKmlANuUlhkj3aUA4jJfwzhFqQJVIJrU1L2pArQC+6CJnakDRGhITyX5qQO872gmcqWpArg9Xku3IakAlLbFnAddpQL3GA5ulemlAgfZmCmQMaUCb1YnGuOVoQA9iDGk3+WhAaMWyL+AIaUAAAADgo2hqQAAAAMDMrGpAAAAAgBS+akAAAABguJ5qQAAAAIA9kmpAAAAAIFwvakAAAABACg9qQAAAAKBH4WlAAAAAAABYaUAAAABgZrZoQAAAACCuF2lAAAAAIFxXaUAAAACA63lpQAAAAGC4PmlAAAAAAClEaUA=",
          "dtype": "f8"
         },
         "low": {
          "bdata": "6x2/dPbzZ0AFnibWNARoQK8hEQLQPmhA6gs4UoQoaECF+5u9jydoQFGtXV0t6GdA0gzFTlEXaEDjEQ0n+71pQBbG1UuuU2pAqPAHASBKakAzAe+fWndqQN5AI5FFgGpAaeZDRhf8aUBvRKRdq8RpQHUBM1sbtGlAYl6gKnL0aUBtvv2GGjVqQA3eRNuRa2pAvtbYE0YqakC4sPpu311qQJc3L8Yow2pA5ZdteFVAa0DIEeiXyJNrQKuj1cS+xmtAftlL1h4qbEBxtn782YVsQPVXnKMCF2xAenyOLbJzbED4U0LUKABtQA9AgvPz52xAkbZWS7gybECp41QViKdrQNTzDkezx2tAxcUwDabBa0C+4XAZl7RrQCmKcCTRA2tALboF8d6zakDpFC+8JOBqQErOfdPc12pAd05dsqXjakAPQQWrS3NrQPwXJzlQAGtAHlaKXEoWa0C62+/mzWJoQB+PqQZKBGlAbN2fq7ytaUCWYnj2c/tpQEwvVFN3X2pAydKEoQjbakCBae9ZxUdrQJzwxhbGXWtA1zMhvlm/a0BYGUMeu9trQGrZyodHyGtAI/GPKiEVbEDG5Aq9XwhsQCm29POz42tApbYURmrxa0BSk0lIYuNrQGoVYJpFA2xA7ghmfnYcbEAEjKBcgYJsQABgx53cVWxA8U+6CaaMa0BJsSd0+xZrQCa1rC3Pl2tAftwroQFga0DHjGPFbf5qQEgDBh0R/2pAHR7fYA4ka0B3nNSmmWFrQKCyDg4/pGtAkhl7HnalakAeJlfW9LdqQE875kPlGGtACu5kSvv6a0CUJ65kU1psQN+TYtCbIGxAZZdKzw4ebEAsEa6uh+drQP/fC4zaE2xADSp3Lx9QbEA+76cAD5tsQIAUg+CZ3mtAB7BKZKTHa0CY6OhONdFrQPuqg50J62tABgyHVMCRa0DNsNXP+c5rQLmqFudbAWxA0n25CPpLbED/a67GZVFsQJJL4JmTeWxATy8fGMvxbEC/TkLrHaFsQEC0sSXNtmxAdhmO6BYmbUBe8xzgHjRtQBM0pssg+WxAZ2imVcpebEDt2wSbhHNsQMAcmeyBmGxAi/Lto4j3bEDIQd8cM/BsQEWbX4jel2xA5P/d/pMSbEDwDoUh829rQF94p78XXmtAX07/SLGLa0Dn9lVnSY1rQE5/aoAR+WtAY9i4V687bEAl+WZx8Z5rQL87leZR2mtAaDkJhirHa0DELy96rA5sQIkoHKRe92tACzorrxkUbEBiKqdvqkNsQHH/eq8VK2xAN3BQxVYlbECyH5qOW3BsQB1xNhT9pWxAJU33epcYbUBGpi1U6idtQHH61twFLW1ATtuTZ9uSbUBwWgktZ8ptQGzDLBJsFW5A3eV5sIMxbkC/zIz76i9uQBclozFiJW5AEU6hp/yXbkAPLtUIW7VuQH7KqDLXom5AYDtmwre0bkDuFpaUuuFuQL5XKZG5JW9AruR4PJrkbkCBSf852s9uQPB6dxopo25AYU/sAOKab0BnI8r9ntVvQOA8bRMpEHBAPw8qwG6Ob0DAyKTVsERvQGrqL2SNGm9AnQOuZJ4nbkDjHqBa2iluQC+HH/yrU25AgmcwVJ0YbkDdCg0+He9tQMd0GqYODm1A31p4olmlbEAkaOBXI/1sQIqf+PC0O21APlC6aGZvbEDOuQzyw31sQAgCfSREW2tAeKU8pVpoa0CA8XVPe7hrQKzJDeIRnGtAoUxgixzua0CemxBeJchsQONTprdMLm1AkHK8/XOUbUCLgGWXGhxtQP1RwwkFJWxAKe53nVhDbEB1gUzMD3dsQCnyV+ADvGxACwJdq9FWbEAdWO7T4FxsQGaljIuZemxA3nPAqBfMbECaTRAxXmhtQEIUE5uUFW5AaYort74wbkDNIY347VpuQLmXm8UKf25A7otYasOcbkDLuphgMoNuQI6tBTrbkm5ALqo9ciPabUAetCwz/JdtQEDkwqHAvGxAXExc+Z95bUBsYg3J7EttQGoootfAnWxAwnfrR1kbbUAzhX09e05tQG/efbmk/WtALpF+fkkla0CuxzwVHdRqQMR8faS0BGpAAyuQ8sYpakDjg0KcPTZqQN6h1B/RZmpAVeRgvAqvakCWMH1rJX5qQLAoWv4aYGpAVPEBUWZJa0B3nqA/VnlrQOjyW9/MhWtAQykvLK2Ia0BJKzwcoyxrQNOjX0xM/mpAP2iFRqBTa0DW3WqqYJdrQNXdFvCQH2lAb3tUaAdjZ0CrmaShhcxlQPPW8w+hH2VAyOH9vUZ1ZUBjc4m6VNhmQC+Je1UfOmdAarJCl7AcaUB9m7AaOvFoQACkbSLHA2hAJGrb1kpFaEAxEgkR97FnQIkgIdLTdmhAmACW7xlRaUDMSnhBk1VpQK9bLCvCvWlAjrShoAbmaUCCEzJ4GwNqQACArmvHzGlAPoWpiwsUakBmKnDZpTxpQGmbj+tpvmhA2gpSHGKYaEB03Jyv5h9oQL9NnOWZTWhAgiH6XgCpaEAAAAAAANhpQAAAAAAAIGpAAAAAYI9SakAAAACgRzFqQAAAAOCjOGpAAAAA4FGIaUAAAADA9aBpQAAAAGC4FmlAAAAAYGb2aEAAAABguC5oQAAAAIDCrWhAAAAAwMz8aEAAAADgUdBoQAAAAMD1mGhAAAAAANcDaUA=",
          "dtype": "f8"
         },
         "name": "OHLC",
         "open": {
          "bdata": "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",
          "dtype": "f8"
         },
         "type": "candlestick",
         "x": [
          "2024-06-03T00:00:00-04:00",
          "2024-06-04T00:00:00-04:00",
          "2024-06-05T00:00:00-04:00",
          "2024-06-06T00:00:00-04:00",
          "2024-06-07T00:00:00-04:00",
          "2024-06-10T00:00:00-04:00",
          "2024-06-11T00:00:00-04:00",
          "2024-06-12T00:00:00-04:00",
          "2024-06-13T00:00:00-04:00",
          "2024-06-14T00:00:00-04:00",
          "2024-06-17T00:00:00-04:00",
          "2024-06-18T00:00:00-04:00",
          "2024-06-20T00:00:00-04:00",
          "2024-06-21T00:00:00-04:00",
          "2024-06-24T00:00:00-04:00",
          "2024-06-25T00:00:00-04:00",
          "2024-06-26T00:00:00-04:00",
          "2024-06-27T00:00:00-04:00",
          "2024-06-28T00:00:00-04:00",
          "2024-07-01T00:00:00-04:00",
          "2024-07-02T00:00:00-04:00",
          "2024-07-03T00:00:00-04:00",
          "2024-07-05T00:00:00-04:00",
          "2024-07-08T00:00:00-04:00",
          "2024-07-09T00:00:00-04:00",
          "2024-07-10T00:00:00-04:00",
          "2024-07-11T00:00:00-04:00",
          "2024-07-12T00:00:00-04:00",
          "2024-07-15T00:00:00-04:00",
          "2024-07-16T00:00:00-04:00",
          "2024-07-17T00:00:00-04:00",
          "2024-07-18T00:00:00-04:00",
          "2024-07-19T00:00:00-04:00",
          "2024-07-22T00:00:00-04:00",
          "2024-07-23T00:00:00-04:00",
          "2024-07-24T00:00:00-04:00",
          "2024-07-25T00:00:00-04:00",
          "2024-07-26T00:00:00-04:00",
          "2024-07-29T00:00:00-04:00",
          "2024-07-30T00:00:00-04:00",
          "2024-07-31T00:00:00-04:00",
          "2024-08-01T00:00:00-04:00",
          "2024-08-02T00:00:00-04:00",
          "2024-08-05T00:00:00-04:00",
          "2024-08-06T00:00:00-04:00",
          "2024-08-07T00:00:00-04:00",
          "2024-08-08T00:00:00-04:00",
          "2024-08-09T00:00:00-04:00",
          "2024-08-12T00:00:00-04:00",
          "2024-08-13T00:00:00-04:00",
          "2024-08-14T00:00:00-04:00",
          "2024-08-15T00:00:00-04:00",
          "2024-08-16T00:00:00-04:00",
          "2024-08-19T00:00:00-04:00",
          "2024-08-20T00:00:00-04:00",
          "2024-08-21T00:00:00-04:00",
          "2024-08-22T00:00:00-04:00",
          "2024-08-23T00:00:00-04:00",
          "2024-08-26T00:00:00-04:00",
          "2024-08-27T00:00:00-04:00",
          "2024-08-28T00:00:00-04:00",
          "2024-08-29T00:00:00-04:00",
          "2024-08-30T00:00:00-04:00",
          "2024-09-03T00:00:00-04:00",
          "2024-09-04T00:00:00-04:00",
          "2024-09-05T00:00:00-04:00",
          "2024-09-06T00:00:00-04:00",
          "2024-09-09T00:00:00-04:00",
          "2024-09-10T00:00:00-04:00",
          "2024-09-11T00:00:00-04:00",
          "2024-09-12T00:00:00-04:00",
          "2024-09-13T00:00:00-04:00",
          "2024-09-16T00:00:00-04:00",
          "2024-09-17T00:00:00-04:00",
          "2024-09-18T00:00:00-04:00",
          "2024-09-19T00:00:00-04:00",
          "2024-09-20T00:00:00-04:00",
          "2024-09-23T00:00:00-04:00",
          "2024-09-24T00:00:00-04:00",
          "2024-09-25T00:00:00-04:00",
          "2024-09-26T00:00:00-04:00",
          "2024-09-27T00:00:00-04:00",
          "2024-09-30T00:00:00-04:00",
          "2024-10-01T00:00:00-04:00",
          "2024-10-02T00:00:00-04:00",
          "2024-10-03T00:00:00-04:00",
          "2024-10-04T00:00:00-04:00",
          "2024-10-07T00:00:00-04:00",
          "2024-10-08T00:00:00-04:00",
          "2024-10-09T00:00:00-04:00",
          "2024-10-10T00:00:00-04:00",
          "2024-10-11T00:00:00-04:00",
          "2024-10-14T00:00:00-04:00",
          "2024-10-15T00:00:00-04:00",
          "2024-10-16T00:00:00-04:00",
          "2024-10-17T00:00:00-04:00",
          "2024-10-18T00:00:00-04:00",
          "2024-10-21T00:00:00-04:00",
          "2024-10-22T00:00:00-04:00",
          "2024-10-23T00:00:00-04:00",
          "2024-10-24T00:00:00-04:00",
          "2024-10-25T00:00:00-04:00",
          "2024-10-28T00:00:00-04:00",
          "2024-10-29T00:00:00-04:00",
          "2024-10-30T00:00:00-04:00",
          "2024-10-31T00:00:00-04:00",
          "2024-11-01T00:00:00-04:00",
          "2024-11-04T00:00:00-05:00",
          "2024-11-05T00:00:00-05:00",
          "2024-11-06T00:00:00-05:00",
          "2024-11-07T00:00:00-05:00",
          "2024-11-08T00:00:00-05:00",
          "2024-11-11T00:00:00-05:00",
          "2024-11-12T00:00:00-05:00",
          "2024-11-13T00:00:00-05:00",
          "2024-11-14T00:00:00-05:00",
          "2024-11-15T00:00:00-05:00",
          "2024-11-18T00:00:00-05:00",
          "2024-11-19T00:00:00-05:00",
          "2024-11-20T00:00:00-05:00",
          "2024-11-21T00:00:00-05:00",
          "2024-11-22T00:00:00-05:00",
          "2024-11-25T00:00:00-05:00",
          "2024-11-26T00:00:00-05:00",
          "2024-11-27T00:00:00-05:00",
          "2024-11-29T00:00:00-05:00",
          "2024-12-02T00:00:00-05:00",
          "2024-12-03T00:00:00-05:00",
          "2024-12-04T00:00:00-05:00",
          "2024-12-05T00:00:00-05:00",
          "2024-12-06T00:00:00-05:00",
          "2024-12-09T00:00:00-05:00",
          "2024-12-10T00:00:00-05:00",
          "2024-12-11T00:00:00-05:00",
          "2024-12-12T00:00:00-05:00",
          "2024-12-13T00:00:00-05:00",
          "2024-12-16T00:00:00-05:00",
          "2024-12-17T00:00:00-05:00",
          "2024-12-18T00:00:00-05:00",
          "2024-12-19T00:00:00-05:00",
          "2024-12-20T00:00:00-05:00",
          "2024-12-23T00:00:00-05:00",
          "2024-12-24T00:00:00-05:00",
          "2024-12-26T00:00:00-05:00",
          "2024-12-27T00:00:00-05:00",
          "2024-12-30T00:00:00-05:00",
          "2024-12-31T00:00:00-05:00",
          "2025-01-02T00:00:00-05:00",
          "2025-01-03T00:00:00-05:00",
          "2025-01-06T00:00:00-05:00",
          "2025-01-07T00:00:00-05:00",
          "2025-01-08T00:00:00-05:00",
          "2025-01-10T00:00:00-05:00",
          "2025-01-13T00:00:00-05:00",
          "2025-01-14T00:00:00-05:00",
          "2025-01-15T00:00:00-05:00",
          "2025-01-16T00:00:00-05:00",
          "2025-01-17T00:00:00-05:00",
          "2025-01-21T00:00:00-05:00",
          "2025-01-22T00:00:00-05:00",
          "2025-01-23T00:00:00-05:00",
          "2025-01-24T00:00:00-05:00",
          "2025-01-27T00:00:00-05:00",
          "2025-01-28T00:00:00-05:00",
          "2025-01-29T00:00:00-05:00",
          "2025-01-30T00:00:00-05:00",
          "2025-01-31T00:00:00-05:00",
          "2025-02-03T00:00:00-05:00",
          "2025-02-04T00:00:00-05:00",
          "2025-02-05T00:00:00-05:00",
          "2025-02-06T00:00:00-05:00",
          "2025-02-07T00:00:00-05:00",
          "2025-02-10T00:00:00-05:00",
          "2025-02-11T00:00:00-05:00",
          "2025-02-12T00:00:00-05:00",
          "2025-02-13T00:00:00-05:00",
          "2025-02-14T00:00:00-05:00",
          "2025-02-18T00:00:00-05:00",
          "2025-02-19T00:00:00-05:00",
          "2025-02-20T00:00:00-05:00",
          "2025-02-21T00:00:00-05:00",
          "2025-02-24T00:00:00-05:00",
          "2025-02-25T00:00:00-05:00",
          "2025-02-26T00:00:00-05:00",
          "2025-02-27T00:00:00-05:00",
          "2025-02-28T00:00:00-05:00",
          "2025-03-03T00:00:00-05:00",
          "2025-03-04T00:00:00-05:00",
          "2025-03-05T00:00:00-05:00",
          "2025-03-06T00:00:00-05:00",
          "2025-03-07T00:00:00-05:00",
          "2025-03-10T00:00:00-04:00",
          "2025-03-11T00:00:00-04:00",
          "2025-03-12T00:00:00-04:00",
          "2025-03-13T00:00:00-04:00",
          "2025-03-14T00:00:00-04:00",
          "2025-03-17T00:00:00-04:00",
          "2025-03-18T00:00:00-04:00",
          "2025-03-19T00:00:00-04:00",
          "2025-03-20T00:00:00-04:00",
          "2025-03-21T00:00:00-04:00",
          "2025-03-24T00:00:00-04:00",
          "2025-03-25T00:00:00-04:00",
          "2025-03-26T00:00:00-04:00",
          "2025-03-27T00:00:00-04:00",
          "2025-03-28T00:00:00-04:00",
          "2025-03-31T00:00:00-04:00",
          "2025-04-01T00:00:00-04:00",
          "2025-04-02T00:00:00-04:00",
          "2025-04-03T00:00:00-04:00",
          "2025-04-04T00:00:00-04:00",
          "2025-04-07T00:00:00-04:00",
          "2025-04-08T00:00:00-04:00",
          "2025-04-09T00:00:00-04:00",
          "2025-04-10T00:00:00-04:00",
          "2025-04-11T00:00:00-04:00",
          "2025-04-14T00:00:00-04:00",
          "2025-04-15T00:00:00-04:00",
          "2025-04-16T00:00:00-04:00",
          "2025-04-17T00:00:00-04:00",
          "2025-04-21T00:00:00-04:00",
          "2025-04-22T00:00:00-04:00",
          "2025-04-23T00:00:00-04:00",
          "2025-04-24T00:00:00-04:00",
          "2025-04-25T00:00:00-04:00",
          "2025-04-28T00:00:00-04:00",
          "2025-04-29T00:00:00-04:00",
          "2025-04-30T00:00:00-04:00",
          "2025-05-01T00:00:00-04:00",
          "2025-05-02T00:00:00-04:00",
          "2025-05-05T00:00:00-04:00",
          "2025-05-06T00:00:00-04:00",
          "2025-05-07T00:00:00-04:00",
          "2025-05-08T00:00:00-04:00",
          "2025-05-09T00:00:00-04:00",
          "2025-05-12T00:00:00-04:00",
          "2025-05-13T00:00:00-04:00",
          "2025-05-14T00:00:00-04:00",
          "2025-05-15T00:00:00-04:00",
          "2025-05-16T00:00:00-04:00",
          "2025-05-19T00:00:00-04:00",
          "2025-05-20T00:00:00-04:00",
          "2025-05-21T00:00:00-04:00",
          "2025-05-22T00:00:00-04:00",
          "2025-05-23T00:00:00-04:00",
          "2025-05-27T00:00:00-04:00",
          "2025-05-28T00:00:00-04:00",
          "2025-05-29T00:00:00-04:00",
          "2025-05-30T00:00:00-04:00",
          "2025-06-02T00:00:00-04:00"
         ],
         "xaxis": "x",
         "yaxis": "y"
        },
        {
         "line": {
          "color": "blue"
         },
         "name": "SMA 20",
         "type": "scatter",
         "x": [
          "2024-06-03T00:00:00-04:00",
          "2024-06-04T00:00:00-04:00",
          "2024-06-05T00:00:00-04:00",
          "2024-06-06T00:00:00-04:00",
          "2024-06-07T00:00:00-04:00",
          "2024-06-10T00:00:00-04:00",
          "2024-06-11T00:00:00-04:00",
          "2024-06-12T00:00:00-04:00",
          "2024-06-13T00:00:00-04:00",
          "2024-06-14T00:00:00-04:00",
          "2024-06-17T00:00:00-04:00",
          "2024-06-18T00:00:00-04:00",
          "2024-06-20T00:00:00-04:00",
          "2024-06-21T00:00:00-04:00",
          "2024-06-24T00:00:00-04:00",
          "2024-06-25T00:00:00-04:00",
          "2024-06-26T00:00:00-04:00",
          "2024-06-27T00:00:00-04:00",
          "2024-06-28T00:00:00-04:00",
          "2024-07-01T00:00:00-04:00",
          "2024-07-02T00:00:00-04:00",
          "2024-07-03T00:00:00-04:00",
          "2024-07-05T00:00:00-04:00",
          "2024-07-08T00:00:00-04:00",
          "2024-07-09T00:00:00-04:00",
          "2024-07-10T00:00:00-04:00",
          "2024-07-11T00:00:00-04:00",
          "2024-07-12T00:00:00-04:00",
          "2024-07-15T00:00:00-04:00",
          "2024-07-16T00:00:00-04:00",
          "2024-07-17T00:00:00-04:00",
          "2024-07-18T00:00:00-04:00",
          "2024-07-19T00:00:00-04:00",
          "2024-07-22T00:00:00-04:00",
          "2024-07-23T00:00:00-04:00",
          "2024-07-24T00:00:00-04:00",
          "2024-07-25T00:00:00-04:00",
          "2024-07-26T00:00:00-04:00",
          "2024-07-29T00:00:00-04:00",
          "2024-07-30T00:00:00-04:00",
          "2024-07-31T00:00:00-04:00",
          "2024-08-01T00:00:00-04:00",
          "2024-08-02T00:00:00-04:00",
          "2024-08-05T00:00:00-04:00",
          "2024-08-06T00:00:00-04:00",
          "2024-08-07T00:00:00-04:00",
          "2024-08-08T00:00:00-04:00",
          "2024-08-09T00:00:00-04:00",
          "2024-08-12T00:00:00-04:00",
          "2024-08-13T00:00:00-04:00",
          "2024-08-14T00:00:00-04:00",
          "2024-08-15T00:00:00-04:00",
          "2024-08-16T00:00:00-04:00",
          "2024-08-19T00:00:00-04:00",
          "2024-08-20T00:00:00-04:00",
          "2024-08-21T00:00:00-04:00",
          "2024-08-22T00:00:00-04:00",
          "2024-08-23T00:00:00-04:00",
          "2024-08-26T00:00:00-04:00",
          "2024-08-27T00:00:00-04:00",
          "2024-08-28T00:00:00-04:00",
          "2024-08-29T00:00:00-04:00",
          "2024-08-30T00:00:00-04:00",
          "2024-09-03T00:00:00-04:00",
          "2024-09-04T00:00:00-04:00",
          "2024-09-05T00:00:00-04:00",
          "2024-09-06T00:00:00-04:00",
          "2024-09-09T00:00:00-04:00",
          "2024-09-10T00:00:00-04:00",
          "2024-09-11T00:00:00-04:00",
          "2024-09-12T00:00:00-04:00",
          "2024-09-13T00:00:00-04:00",
          "2024-09-16T00:00:00-04:00",
          "2024-09-17T00:00:00-04:00",
          "2024-09-18T00:00:00-04:00",
          "2024-09-19T00:00:00-04:00",
          "2024-09-20T00:00:00-04:00",
          "2024-09-23T00:00:00-04:00",
          "2024-09-24T00:00:00-04:00",
          "2024-09-25T00:00:00-04:00",
          "2024-09-26T00:00:00-04:00",
          "2024-09-27T00:00:00-04:00",
          "2024-09-30T00:00:00-04:00",
          "2024-10-01T00:00:00-04:00",
          "2024-10-02T00:00:00-04:00",
          "2024-10-03T00:00:00-04:00",
          "2024-10-04T00:00:00-04:00",
          "2024-10-07T00:00:00-04:00",
          "2024-10-08T00:00:00-04:00",
          "2024-10-09T00:00:00-04:00",
          "2024-10-10T00:00:00-04:00",
          "2024-10-11T00:00:00-04:00",
          "2024-10-14T00:00:00-04:00",
          "2024-10-15T00:00:00-04:00",
          "2024-10-16T00:00:00-04:00",
          "2024-10-17T00:00:00-04:00",
          "2024-10-18T00:00:00-04:00",
          "2024-10-21T00:00:00-04:00",
          "2024-10-22T00:00:00-04:00",
          "2024-10-23T00:00:00-04:00",
          "2024-10-24T00:00:00-04:00",
          "2024-10-25T00:00:00-04:00",
          "2024-10-28T00:00:00-04:00",
          "2024-10-29T00:00:00-04:00",
          "2024-10-30T00:00:00-04:00",
          "2024-10-31T00:00:00-04:00",
          "2024-11-01T00:00:00-04:00",
          "2024-11-04T00:00:00-05:00",
          "2024-11-05T00:00:00-05:00",
          "2024-11-06T00:00:00-05:00",
          "2024-11-07T00:00:00-05:00",
          "2024-11-08T00:00:00-05:00",
          "2024-11-11T00:00:00-05:00",
          "2024-11-12T00:00:00-05:00",
          "2024-11-13T00:00:00-05:00",
          "2024-11-14T00:00:00-05:00",
          "2024-11-15T00:00:00-05:00",
          "2024-11-18T00:00:00-05:00",
          "2024-11-19T00:00:00-05:00",
          "2024-11-20T00:00:00-05:00",
          "2024-11-21T00:00:00-05:00",
          "2024-11-22T00:00:00-05:00",
          "2024-11-25T00:00:00-05:00",
          "2024-11-26T00:00:00-05:00",
          "2024-11-27T00:00:00-05:00",
          "2024-11-29T00:00:00-05:00",
          "2024-12-02T00:00:00-05:00",
          "2024-12-03T00:00:00-05:00",
          "2024-12-04T00:00:00-05:00",
          "2024-12-05T00:00:00-05:00",
          "2024-12-06T00:00:00-05:00",
          "2024-12-09T00:00:00-05:00",
          "2024-12-10T00:00:00-05:00",
          "2024-12-11T00:00:00-05:00",
          "2024-12-12T00:00:00-05:00",
          "2024-12-13T00:00:00-05:00",
          "2024-12-16T00:00:00-05:00",
          "2024-12-17T00:00:00-05:00",
          "2024-12-18T00:00:00-05:00",
          "2024-12-19T00:00:00-05:00",
          "2024-12-20T00:00:00-05:00",
          "2024-12-23T00:00:00-05:00",
          "2024-12-24T00:00:00-05:00",
          "2024-12-26T00:00:00-05:00",
          "2024-12-27T00:00:00-05:00",
          "2024-12-30T00:00:00-05:00",
          "2024-12-31T00:00:00-05:00",
          "2025-01-02T00:00:00-05:00",
          "2025-01-03T00:00:00-05:00",
          "2025-01-06T00:00:00-05:00",
          "2025-01-07T00:00:00-05:00",
          "2025-01-08T00:00:00-05:00",
          "2025-01-10T00:00:00-05:00",
          "2025-01-13T00:00:00-05:00",
          "2025-01-14T00:00:00-05:00",
          "2025-01-15T00:00:00-05:00",
          "2025-01-16T00:00:00-05:00",
          "2025-01-17T00:00:00-05:00",
          "2025-01-21T00:00:00-05:00",
          "2025-01-22T00:00:00-05:00",
          "2025-01-23T00:00:00-05:00",
          "2025-01-24T00:00:00-05:00",
          "2025-01-27T00:00:00-05:00",
          "2025-01-28T00:00:00-05:00",
          "2025-01-29T00:00:00-05:00",
          "2025-01-30T00:00:00-05:00",
          "2025-01-31T00:00:00-05:00",
          "2025-02-03T00:00:00-05:00",
          "2025-02-04T00:00:00-05:00",
          "2025-02-05T00:00:00-05:00",
          "2025-02-06T00:00:00-05:00",
          "2025-02-07T00:00:00-05:00",
          "2025-02-10T00:00:00-05:00",
          "2025-02-11T00:00:00-05:00",
          "2025-02-12T00:00:00-05:00",
          "2025-02-13T00:00:00-05:00",
          "2025-02-14T00:00:00-05:00",
          "2025-02-18T00:00:00-05:00",
          "2025-02-19T00:00:00-05:00",
          "2025-02-20T00:00:00-05:00",
          "2025-02-21T00:00:00-05:00",
          "2025-02-24T00:00:00-05:00",
          "2025-02-25T00:00:00-05:00",
          "2025-02-26T00:00:00-05:00",
          "2025-02-27T00:00:00-05:00",
          "2025-02-28T00:00:00-05:00",
          "2025-03-03T00:00:00-05:00",
          "2025-03-04T00:00:00-05:00",
          "2025-03-05T00:00:00-05:00",
          "2025-03-06T00:00:00-05:00",
          "2025-03-07T00:00:00-05:00",
          "2025-03-10T00:00:00-04:00",
          "2025-03-11T00:00:00-04:00",
          "2025-03-12T00:00:00-04:00",
          "2025-03-13T00:00:00-04:00",
          "2025-03-14T00:00:00-04:00",
          "2025-03-17T00:00:00-04:00",
          "2025-03-18T00:00:00-04:00",
          "2025-03-19T00:00:00-04:00",
          "2025-03-20T00:00:00-04:00",
          "2025-03-21T00:00:00-04:00",
          "2025-03-24T00:00:00-04:00",
          "2025-03-25T00:00:00-04:00",
          "2025-03-26T00:00:00-04:00",
          "2025-03-27T00:00:00-04:00",
          "2025-03-28T00:00:00-04:00",
          "2025-03-31T00:00:00-04:00",
          "2025-04-01T00:00:00-04:00",
          "2025-04-02T00:00:00-04:00",
          "2025-04-03T00:00:00-04:00",
          "2025-04-04T00:00:00-04:00",
          "2025-04-07T00:00:00-04:00",
          "2025-04-08T00:00:00-04:00",
          "2025-04-09T00:00:00-04:00",
          "2025-04-10T00:00:00-04:00",
          "2025-04-11T00:00:00-04:00",
          "2025-04-14T00:00:00-04:00",
          "2025-04-15T00:00:00-04:00",
          "2025-04-16T00:00:00-04:00",
          "2025-04-17T00:00:00-04:00",
          "2025-04-21T00:00:00-04:00",
          "2025-04-22T00:00:00-04:00",
          "2025-04-23T00:00:00-04:00",
          "2025-04-24T00:00:00-04:00",
          "2025-04-25T00:00:00-04:00",
          "2025-04-28T00:00:00-04:00",
          "2025-04-29T00:00:00-04:00",
          "2025-04-30T00:00:00-04:00",
          "2025-05-01T00:00:00-04:00",
          "2025-05-02T00:00:00-04:00",
          "2025-05-05T00:00:00-04:00",
          "2025-05-06T00:00:00-04:00",
          "2025-05-07T00:00:00-04:00",
          "2025-05-08T00:00:00-04:00",
          "2025-05-09T00:00:00-04:00",
          "2025-05-12T00:00:00-04:00",
          "2025-05-13T00:00:00-04:00",
          "2025-05-14T00:00:00-04:00",
          "2025-05-15T00:00:00-04:00",
          "2025-05-16T00:00:00-04:00",
          "2025-05-19T00:00:00-04:00",
          "2025-05-20T00:00:00-04:00",
          "2025-05-21T00:00:00-04:00",
          "2025-05-22T00:00:00-04:00",
          "2025-05-23T00:00:00-04:00",
          "2025-05-27T00:00:00-04:00",
          "2025-05-28T00:00:00-04:00",
          "2025-05-29T00:00:00-04:00",
          "2025-05-30T00:00:00-04:00",
          "2025-06-02T00:00:00-04:00"
         ],
         "xaxis": "x",
         "y": {
          "bdata": "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",
          "dtype": "f8"
         },
         "yaxis": "y"
        },
        {
         "line": {
          "color": "red"
         },
         "name": "SMA 50",
         "type": "scatter",
         "x": [
          "2024-06-03T00:00:00-04:00",
          "2024-06-04T00:00:00-04:00",
          "2024-06-05T00:00:00-04:00",
          "2024-06-06T00:00:00-04:00",
          "2024-06-07T00:00:00-04:00",
          "2024-06-10T00:00:00-04:00",
          "2024-06-11T00:00:00-04:00",
          "2024-06-12T00:00:00-04:00",
          "2024-06-13T00:00:00-04:00",
          "2024-06-14T00:00:00-04:00",
          "2024-06-17T00:00:00-04:00",
          "2024-06-18T00:00:00-04:00",
          "2024-06-20T00:00:00-04:00",
          "2024-06-21T00:00:00-04:00",
          "2024-06-24T00:00:00-04:00",
          "2024-06-25T00:00:00-04:00",
          "2024-06-26T00:00:00-04:00",
          "2024-06-27T00:00:00-04:00",
          "2024-06-28T00:00:00-04:00",
          "2024-07-01T00:00:00-04:00",
          "2024-07-02T00:00:00-04:00",
          "2024-07-03T00:00:00-04:00",
          "2024-07-05T00:00:00-04:00",
          "2024-07-08T00:00:00-04:00",
          "2024-07-09T00:00:00-04:00",
          "2024-07-10T00:00:00-04:00",
          "2024-07-11T00:00:00-04:00",
          "2024-07-12T00:00:00-04:00",
          "2024-07-15T00:00:00-04:00",
          "2024-07-16T00:00:00-04:00",
          "2024-07-17T00:00:00-04:00",
          "2024-07-18T00:00:00-04:00",
          "2024-07-19T00:00:00-04:00",
          "2024-07-22T00:00:00-04:00",
          "2024-07-23T00:00:00-04:00",
          "2024-07-24T00:00:00-04:00",
          "2024-07-25T00:00:00-04:00",
          "2024-07-26T00:00:00-04:00",
          "2024-07-29T00:00:00-04:00",
          "2024-07-30T00:00:00-04:00",
          "2024-07-31T00:00:00-04:00",
          "2024-08-01T00:00:00-04:00",
          "2024-08-02T00:00:00-04:00",
          "2024-08-05T00:00:00-04:00",
          "2024-08-06T00:00:00-04:00",
          "2024-08-07T00:00:00-04:00",
          "2024-08-08T00:00:00-04:00",
          "2024-08-09T00:00:00-04:00",
          "2024-08-12T00:00:00-04:00",
          "2024-08-13T00:00:00-04:00",
          "2024-08-14T00:00:00-04:00",
          "2024-08-15T00:00:00-04:00",
          "2024-08-16T00:00:00-04:00",
          "2024-08-19T00:00:00-04:00",
          "2024-08-20T00:00:00-04:00",
          "2024-08-21T00:00:00-04:00",
          "2024-08-22T00:00:00-04:00",
          "2024-08-23T00:00:00-04:00",
          "2024-08-26T00:00:00-04:00",
          "2024-08-27T00:00:00-04:00",
          "2024-08-28T00:00:00-04:00",
          "2024-08-29T00:00:00-04:00",
          "2024-08-30T00:00:00-04:00",
          "2024-09-03T00:00:00-04:00",
          "2024-09-04T00:00:00-04:00",
          "2024-09-05T00:00:00-04:00",
          "2024-09-06T00:00:00-04:00",
          "2024-09-09T00:00:00-04:00",
          "2024-09-10T00:00:00-04:00",
          "2024-09-11T00:00:00-04:00",
          "2024-09-12T00:00:00-04:00",
          "2024-09-13T00:00:00-04:00",
          "2024-09-16T00:00:00-04:00",
          "2024-09-17T00:00:00-04:00",
          "2024-09-18T00:00:00-04:00",
          "2024-09-19T00:00:00-04:00",
          "2024-09-20T00:00:00-04:00",
          "2024-09-23T00:00:00-04:00",
          "2024-09-24T00:00:00-04:00",
          "2024-09-25T00:00:00-04:00",
          "2024-09-26T00:00:00-04:00",
          "2024-09-27T00:00:00-04:00",
          "2024-09-30T00:00:00-04:00",
          "2024-10-01T00:00:00-04:00",
          "2024-10-02T00:00:00-04:00",
          "2024-10-03T00:00:00-04:00",
          "2024-10-04T00:00:00-04:00",
          "2024-10-07T00:00:00-04:00",
          "2024-10-08T00:00:00-04:00",
          "2024-10-09T00:00:00-04:00",
          "2024-10-10T00:00:00-04:00",
          "2024-10-11T00:00:00-04:00",
          "2024-10-14T00:00:00-04:00",
          "2024-10-15T00:00:00-04:00",
          "2024-10-16T00:00:00-04:00",
          "2024-10-17T00:00:00-04:00",
          "2024-10-18T00:00:00-04:00",
          "2024-10-21T00:00:00-04:00",
          "2024-10-22T00:00:00-04:00",
          "2024-10-23T00:00:00-04:00",
          "2024-10-24T00:00:00-04:00",
          "2024-10-25T00:00:00-04:00",
          "2024-10-28T00:00:00-04:00",
          "2024-10-29T00:00:00-04:00",
          "2024-10-30T00:00:00-04:00",
          "2024-10-31T00:00:00-04:00",
          "2024-11-01T00:00:00-04:00",
          "2024-11-04T00:00:00-05:00",
          "2024-11-05T00:00:00-05:00",
          "2024-11-06T00:00:00-05:00",
          "2024-11-07T00:00:00-05:00",
          "2024-11-08T00:00:00-05:00",
          "2024-11-11T00:00:00-05:00",
          "2024-11-12T00:00:00-05:00",
          "2024-11-13T00:00:00-05:00",
          "2024-11-14T00:00:00-05:00",
          "2024-11-15T00:00:00-05:00",
          "2024-11-18T00:00:00-05:00",
          "2024-11-19T00:00:00-05:00",
          "2024-11-20T00:00:00-05:00",
          "2024-11-21T00:00:00-05:00",
          "2024-11-22T00:00:00-05:00",
          "2024-11-25T00:00:00-05:00",
          "2024-11-26T00:00:00-05:00",
          "2024-11-27T00:00:00-05:00",
          "2024-11-29T00:00:00-05:00",
          "2024-12-02T00:00:00-05:00",
          "2024-12-03T00:00:00-05:00",
          "2024-12-04T00:00:00-05:00",
          "2024-12-05T00:00:00-05:00",
          "2024-12-06T00:00:00-05:00",
          "2024-12-09T00:00:00-05:00",
          "2024-12-10T00:00:00-05:00",
          "2024-12-11T00:00:00-05:00",
          "2024-12-12T00:00:00-05:00",
          "2024-12-13T00:00:00-05:00",
          "2024-12-16T00:00:00-05:00",
          "2024-12-17T00:00:00-05:00",
          "2024-12-18T00:00:00-05:00",
          "2024-12-19T00:00:00-05:00",
          "2024-12-20T00:00:00-05:00",
          "2024-12-23T00:00:00-05:00",
          "2024-12-24T00:00:00-05:00",
          "2024-12-26T00:00:00-05:00",
          "2024-12-27T00:00:00-05:00",
          "2024-12-30T00:00:00-05:00",
          "2024-12-31T00:00:00-05:00",
          "2025-01-02T00:00:00-05:00",
          "2025-01-03T00:00:00-05:00",
          "2025-01-06T00:00:00-05:00",
          "2025-01-07T00:00:00-05:00",
          "2025-01-08T00:00:00-05:00",
          "2025-01-10T00:00:00-05:00",
          "2025-01-13T00:00:00-05:00",
          "2025-01-14T00:00:00-05:00",
          "2025-01-15T00:00:00-05:00",
          "2025-01-16T00:00:00-05:00",
          "2025-01-17T00:00:00-05:00",
          "2025-01-21T00:00:00-05:00",
          "2025-01-22T00:00:00-05:00",
          "2025-01-23T00:00:00-05:00",
          "2025-01-24T00:00:00-05:00",
          "2025-01-27T00:00:00-05:00",
          "2025-01-28T00:00:00-05:00",
          "2025-01-29T00:00:00-05:00",
          "2025-01-30T00:00:00-05:00",
          "2025-01-31T00:00:00-05:00",
          "2025-02-03T00:00:00-05:00",
          "2025-02-04T00:00:00-05:00",
          "2025-02-05T00:00:00-05:00",
          "2025-02-06T00:00:00-05:00",
          "2025-02-07T00:00:00-05:00",
          "2025-02-10T00:00:00-05:00",
          "2025-02-11T00:00:00-05:00",
          "2025-02-12T00:00:00-05:00",
          "2025-02-13T00:00:00-05:00",
          "2025-02-14T00:00:00-05:00",
          "2025-02-18T00:00:00-05:00",
          "2025-02-19T00:00:00-05:00",
          "2025-02-20T00:00:00-05:00",
          "2025-02-21T00:00:00-05:00",
          "2025-02-24T00:00:00-05:00",
          "2025-02-25T00:00:00-05:00",
          "2025-02-26T00:00:00-05:00",
          "2025-02-27T00:00:00-05:00",
          "2025-02-28T00:00:00-05:00",
          "2025-03-03T00:00:00-05:00",
          "2025-03-04T00:00:00-05:00",
          "2025-03-05T00:00:00-05:00",
          "2025-03-06T00:00:00-05:00",
          "2025-03-07T00:00:00-05:00",
          "2025-03-10T00:00:00-04:00",
          "2025-03-11T00:00:00-04:00",
          "2025-03-12T00:00:00-04:00",
          "2025-03-13T00:00:00-04:00",
          "2025-03-14T00:00:00-04:00",
          "2025-03-17T00:00:00-04:00",
          "2025-03-18T00:00:00-04:00",
          "2025-03-19T00:00:00-04:00",
          "2025-03-20T00:00:00-04:00",
          "2025-03-21T00:00:00-04:00",
          "2025-03-24T00:00:00-04:00",
          "2025-03-25T00:00:00-04:00",
          "2025-03-26T00:00:00-04:00",
          "2025-03-27T00:00:00-04:00",
          "2025-03-28T00:00:00-04:00",
          "2025-03-31T00:00:00-04:00",
          "2025-04-01T00:00:00-04:00",
          "2025-04-02T00:00:00-04:00",
          "2025-04-03T00:00:00-04:00",
          "2025-04-04T00:00:00-04:00",
          "2025-04-07T00:00:00-04:00",
          "2025-04-08T00:00:00-04:00",
          "2025-04-09T00:00:00-04:00",
          "2025-04-10T00:00:00-04:00",
          "2025-04-11T00:00:00-04:00",
          "2025-04-14T00:00:00-04:00",
          "2025-04-15T00:00:00-04:00",
          "2025-04-16T00:00:00-04:00",
          "2025-04-17T00:00:00-04:00",
          "2025-04-21T00:00:00-04:00",
          "2025-04-22T00:00:00-04:00",
          "2025-04-23T00:00:00-04:00",
          "2025-04-24T00:00:00-04:00",
          "2025-04-25T00:00:00-04:00",
          "2025-04-28T00:00:00-04:00",
          "2025-04-29T00:00:00-04:00",
          "2025-04-30T00:00:00-04:00",
          "2025-05-01T00:00:00-04:00",
          "2025-05-02T00:00:00-04:00",
          "2025-05-05T00:00:00-04:00",
          "2025-05-06T00:00:00-04:00",
          "2025-05-07T00:00:00-04:00",
          "2025-05-08T00:00:00-04:00",
          "2025-05-09T00:00:00-04:00",
          "2025-05-12T00:00:00-04:00",
          "2025-05-13T00:00:00-04:00",
          "2025-05-14T00:00:00-04:00",
          "2025-05-15T00:00:00-04:00",
          "2025-05-16T00:00:00-04:00",
          "2025-05-19T00:00:00-04:00",
          "2025-05-20T00:00:00-04:00",
          "2025-05-21T00:00:00-04:00",
          "2025-05-22T00:00:00-04:00",
          "2025-05-23T00:00:00-04:00",
          "2025-05-27T00:00:00-04:00",
          "2025-05-28T00:00:00-04:00",
          "2025-05-29T00:00:00-04:00",
          "2025-05-30T00:00:00-04:00",
          "2025-06-02T00:00:00-04:00"
         ],
         "xaxis": "x",
         "y": {
          "bdata": "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",
          "dtype": "f8"
         },
         "yaxis": "y"
        },
        {
         "name": "Volume",
         "type": "bar",
         "x": [
          "2024-06-03T00:00:00-04:00",
          "2024-06-04T00:00:00-04:00",
          "2024-06-05T00:00:00-04:00",
          "2024-06-06T00:00:00-04:00",
          "2024-06-07T00:00:00-04:00",
          "2024-06-10T00:00:00-04:00",
          "2024-06-11T00:00:00-04:00",
          "2024-06-12T00:00:00-04:00",
          "2024-06-13T00:00:00-04:00",
          "2024-06-14T00:00:00-04:00",
          "2024-06-17T00:00:00-04:00",
          "2024-06-18T00:00:00-04:00",
          "2024-06-20T00:00:00-04:00",
          "2024-06-21T00:00:00-04:00",
          "2024-06-24T00:00:00-04:00",
          "2024-06-25T00:00:00-04:00",
          "2024-06-26T00:00:00-04:00",
          "2024-06-27T00:00:00-04:00",
          "2024-06-28T00:00:00-04:00",
          "2024-07-01T00:00:00-04:00",
          "2024-07-02T00:00:00-04:00",
          "2024-07-03T00:00:00-04:00",
          "2024-07-05T00:00:00-04:00",
          "2024-07-08T00:00:00-04:00",
          "2024-07-09T00:00:00-04:00",
          "2024-07-10T00:00:00-04:00",
          "2024-07-11T00:00:00-04:00",
          "2024-07-12T00:00:00-04:00",
          "2024-07-15T00:00:00-04:00",
          "2024-07-16T00:00:00-04:00",
          "2024-07-17T00:00:00-04:00",
          "2024-07-18T00:00:00-04:00",
          "2024-07-19T00:00:00-04:00",
          "2024-07-22T00:00:00-04:00",
          "2024-07-23T00:00:00-04:00",
          "2024-07-24T00:00:00-04:00",
          "2024-07-25T00:00:00-04:00",
          "2024-07-26T00:00:00-04:00",
          "2024-07-29T00:00:00-04:00",
          "2024-07-30T00:00:00-04:00",
          "2024-07-31T00:00:00-04:00",
          "2024-08-01T00:00:00-04:00",
          "2024-08-02T00:00:00-04:00",
          "2024-08-05T00:00:00-04:00",
          "2024-08-06T00:00:00-04:00",
          "2024-08-07T00:00:00-04:00",
          "2024-08-08T00:00:00-04:00",
          "2024-08-09T00:00:00-04:00",
          "2024-08-12T00:00:00-04:00",
          "2024-08-13T00:00:00-04:00",
          "2024-08-14T00:00:00-04:00",
          "2024-08-15T00:00:00-04:00",
          "2024-08-16T00:00:00-04:00",
          "2024-08-19T00:00:00-04:00",
          "2024-08-20T00:00:00-04:00",
          "2024-08-21T00:00:00-04:00",
          "2024-08-22T00:00:00-04:00",
          "2024-08-23T00:00:00-04:00",
          "2024-08-26T00:00:00-04:00",
          "2024-08-27T00:00:00-04:00",
          "2024-08-28T00:00:00-04:00",
          "2024-08-29T00:00:00-04:00",
          "2024-08-30T00:00:00-04:00",
          "2024-09-03T00:00:00-04:00",
          "2024-09-04T00:00:00-04:00",
          "2024-09-05T00:00:00-04:00",
          "2024-09-06T00:00:00-04:00",
          "2024-09-09T00:00:00-04:00",
          "2024-09-10T00:00:00-04:00",
          "2024-09-11T00:00:00-04:00",
          "2024-09-12T00:00:00-04:00",
          "2024-09-13T00:00:00-04:00",
          "2024-09-16T00:00:00-04:00",
          "2024-09-17T00:00:00-04:00",
          "2024-09-18T00:00:00-04:00",
          "2024-09-19T00:00:00-04:00",
          "2024-09-20T00:00:00-04:00",
          "2024-09-23T00:00:00-04:00",
          "2024-09-24T00:00:00-04:00",
          "2024-09-25T00:00:00-04:00",
          "2024-09-26T00:00:00-04:00",
          "2024-09-27T00:00:00-04:00",
          "2024-09-30T00:00:00-04:00",
          "2024-10-01T00:00:00-04:00",
          "2024-10-02T00:00:00-04:00",
          "2024-10-03T00:00:00-04:00",
          "2024-10-04T00:00:00-04:00",
          "2024-10-07T00:00:00-04:00",
          "2024-10-08T00:00:00-04:00",
          "2024-10-09T00:00:00-04:00",
          "2024-10-10T00:00:00-04:00",
          "2024-10-11T00:00:00-04:00",
          "2024-10-14T00:00:00-04:00",
          "2024-10-15T00:00:00-04:00",
          "2024-10-16T00:00:00-04:00",
          "2024-10-17T00:00:00-04:00",
          "2024-10-18T00:00:00-04:00",
          "2024-10-21T00:00:00-04:00",
          "2024-10-22T00:00:00-04:00",
          "2024-10-23T00:00:00-04:00",
          "2024-10-24T00:00:00-04:00",
          "2024-10-25T00:00:00-04:00",
          "2024-10-28T00:00:00-04:00",
          "2024-10-29T00:00:00-04:00",
          "2024-10-30T00:00:00-04:00",
          "2024-10-31T00:00:00-04:00",
          "2024-11-01T00:00:00-04:00",
          "2024-11-04T00:00:00-05:00",
          "2024-11-05T00:00:00-05:00",
          "2024-11-06T00:00:00-05:00",
          "2024-11-07T00:00:00-05:00",
          "2024-11-08T00:00:00-05:00",
          "2024-11-11T00:00:00-05:00",
          "2024-11-12T00:00:00-05:00",
          "2024-11-13T00:00:00-05:00",
          "2024-11-14T00:00:00-05:00",
          "2024-11-15T00:00:00-05:00",
          "2024-11-18T00:00:00-05:00",
          "2024-11-19T00:00:00-05:00",
          "2024-11-20T00:00:00-05:00",
          "2024-11-21T00:00:00-05:00",
          "2024-11-22T00:00:00-05:00",
          "2024-11-25T00:00:00-05:00",
          "2024-11-26T00:00:00-05:00",
          "2024-11-27T00:00:00-05:00",
          "2024-11-29T00:00:00-05:00",
          "2024-12-02T00:00:00-05:00",
          "2024-12-03T00:00:00-05:00",
          "2024-12-04T00:00:00-05:00",
          "2024-12-05T00:00:00-05:00",
          "2024-12-06T00:00:00-05:00",
          "2024-12-09T00:00:00-05:00",
          "2024-12-10T00:00:00-05:00",
          "2024-12-11T00:00:00-05:00",
          "2024-12-12T00:00:00-05:00",
          "2024-12-13T00:00:00-05:00",
          "2024-12-16T00:00:00-05:00",
          "2024-12-17T00:00:00-05:00",
          "2024-12-18T00:00:00-05:00",
          "2024-12-19T00:00:00-05:00",
          "2024-12-20T00:00:00-05:00",
          "2024-12-23T00:00:00-05:00",
          "2024-12-24T00:00:00-05:00",
          "2024-12-26T00:00:00-05:00",
          "2024-12-27T00:00:00-05:00",
          "2024-12-30T00:00:00-05:00",
          "2024-12-31T00:00:00-05:00",
          "2025-01-02T00:00:00-05:00",
          "2025-01-03T00:00:00-05:00",
          "2025-01-06T00:00:00-05:00",
          "2025-01-07T00:00:00-05:00",
          "2025-01-08T00:00:00-05:00",
          "2025-01-10T00:00:00-05:00",
          "2025-01-13T00:00:00-05:00",
          "2025-01-14T00:00:00-05:00",
          "2025-01-15T00:00:00-05:00",
          "2025-01-16T00:00:00-05:00",
          "2025-01-17T00:00:00-05:00",
          "2025-01-21T00:00:00-05:00",
          "2025-01-22T00:00:00-05:00",
          "2025-01-23T00:00:00-05:00",
          "2025-01-24T00:00:00-05:00",
          "2025-01-27T00:00:00-05:00",
          "2025-01-28T00:00:00-05:00",
          "2025-01-29T00:00:00-05:00",
          "2025-01-30T00:00:00-05:00",
          "2025-01-31T00:00:00-05:00",
          "2025-02-03T00:00:00-05:00",
          "2025-02-04T00:00:00-05:00",
          "2025-02-05T00:00:00-05:00",
          "2025-02-06T00:00:00-05:00",
          "2025-02-07T00:00:00-05:00",
          "2025-02-10T00:00:00-05:00",
          "2025-02-11T00:00:00-05:00",
          "2025-02-12T00:00:00-05:00",
          "2025-02-13T00:00:00-05:00",
          "2025-02-14T00:00:00-05:00",
          "2025-02-18T00:00:00-05:00",
          "2025-02-19T00:00:00-05:00",
          "2025-02-20T00:00:00-05:00",
          "2025-02-21T00:00:00-05:00",
          "2025-02-24T00:00:00-05:00",
          "2025-02-25T00:00:00-05:00",
          "2025-02-26T00:00:00-05:00",
          "2025-02-27T00:00:00-05:00",
          "2025-02-28T00:00:00-05:00",
          "2025-03-03T00:00:00-05:00",
          "2025-03-04T00:00:00-05:00",
          "2025-03-05T00:00:00-05:00",
          "2025-03-06T00:00:00-05:00",
          "2025-03-07T00:00:00-05:00",
          "2025-03-10T00:00:00-04:00",
          "2025-03-11T00:00:00-04:00",
          "2025-03-12T00:00:00-04:00",
          "2025-03-13T00:00:00-04:00",
          "2025-03-14T00:00:00-04:00",
          "2025-03-17T00:00:00-04:00",
          "2025-03-18T00:00:00-04:00",
          "2025-03-19T00:00:00-04:00",
          "2025-03-20T00:00:00-04:00",
          "2025-03-21T00:00:00-04:00",
          "2025-03-24T00:00:00-04:00",
          "2025-03-25T00:00:00-04:00",
          "2025-03-26T00:00:00-04:00",
          "2025-03-27T00:00:00-04:00",
          "2025-03-28T00:00:00-04:00",
          "2025-03-31T00:00:00-04:00",
          "2025-04-01T00:00:00-04:00",
          "2025-04-02T00:00:00-04:00",
          "2025-04-03T00:00:00-04:00",
          "2025-04-04T00:00:00-04:00",
          "2025-04-07T00:00:00-04:00",
          "2025-04-08T00:00:00-04:00",
          "2025-04-09T00:00:00-04:00",
          "2025-04-10T00:00:00-04:00",
          "2025-04-11T00:00:00-04:00",
          "2025-04-14T00:00:00-04:00",
          "2025-04-15T00:00:00-04:00",
          "2025-04-16T00:00:00-04:00",
          "2025-04-17T00:00:00-04:00",
          "2025-04-21T00:00:00-04:00",
          "2025-04-22T00:00:00-04:00",
          "2025-04-23T00:00:00-04:00",
          "2025-04-24T00:00:00-04:00",
          "2025-04-25T00:00:00-04:00",
          "2025-04-28T00:00:00-04:00",
          "2025-04-29T00:00:00-04:00",
          "2025-04-30T00:00:00-04:00",
          "2025-05-01T00:00:00-04:00",
          "2025-05-02T00:00:00-04:00",
          "2025-05-05T00:00:00-04:00",
          "2025-05-06T00:00:00-04:00",
          "2025-05-07T00:00:00-04:00",
          "2025-05-08T00:00:00-04:00",
          "2025-05-09T00:00:00-04:00",
          "2025-05-12T00:00:00-04:00",
          "2025-05-13T00:00:00-04:00",
          "2025-05-14T00:00:00-04:00",
          "2025-05-15T00:00:00-04:00",
          "2025-05-16T00:00:00-04:00",
          "2025-05-19T00:00:00-04:00",
          "2025-05-20T00:00:00-04:00",
          "2025-05-21T00:00:00-04:00",
          "2025-05-22T00:00:00-04:00",
          "2025-05-23T00:00:00-04:00",
          "2025-05-27T00:00:00-04:00",
          "2025-05-28T00:00:00-04:00",
          "2025-05-29T00:00:00-04:00",
          "2025-05-30T00:00:00-04:00",
          "2025-06-02T00:00:00-04:00"
         ],
         "xaxis": "x2",
         "y": {
          "bdata": "9Cr8Aihb1AIAXjoDaGJ0AhxNKgMUGswFNDVGChxKzwssRNUFzPwtBCwulgWE1sMEVOMiBZgXsA7Yy88ErGJhA1BV8gOcePcCbIDrBNSsmQP4tnUDyDc6AvDRmQNMlIUDRJXdAnSfuwPIZ9sD5GwpA4StuwP8s5MCbAdrA6ib7wMM/u0CSIDfAuy+YQLApq4D4CoQAxTJegL4EioCGG97Akx++wKIsLkDWNlKBrgqIAdU7yYE8C7JAwyfzwIA8oMCRENEAqTBoQKYRIACsDjEAuiTpAK42GwCeFPOAbx6EgLEvJoCNCtOAtjz0gGIUSQCaKFEAvwGGANQkygDCNn9AsjynALotC4CWODiAuAVAQRYNxMDXFioAlgtPAKIAzEC2LiJA8SRtgJ07JEDdAD7A1yr/hLQMzoDBJ2YAlyUhQIcCC8CEDIHAkw+QAMIp8UD2Lf1ASh5BwKsUDgC+M1aAlQU5gE8jwACzAuuAWCb5AF0jWACKAfcA5gNCAIIcvcBDH3EAiQzKQKIwFACGNYdA3yx2gF8E1ACPKUmAnBsHAK0Ps4CtDXWAxwL5AN0zK0CxPGsAUyJQANk+IIC4NlIAmD0gALcbWgCuA/lAvx7rQL0QdsCsNqpAliMKAJApRgCjIWCAuxmRgJgn18FmLG9AiAl/wF4l7IBjIPeAsj4UAKcPqUCbN5iAsiZMgLwSqkCcEYzAijJsQIcJfQB5Oj5AdDMFAPwog8D1E1iA3z9oAOEmcoIsHRvAoyIYgHsmp8BZEqGAnyQHgJ8bVoCHIlSA4QTZgJgV68CwGlvAuQrPgI0oq0D7E31AiS8WQLAyV8C/PRGBGwMFQSAb9gFJH7SAzAclwOsn0IDKICnBdA0gwQUELYCPEdRA5xIBgaE21oEJKyvAsyOXAK0n8gBQOJdAtBN+QGArTMDpFuyAhQWMgPIBnAC5PjoAqhl6wHkHe0BWLorA8AtDwP0n9wCwACmAkD0cwJ4NWMDgPjPAtTkNAPQotAC4D6xAkAUwgIguEsEuMOJBCxmugPsZ6gDUCuVA7iK3QKQd4cC+No9A7SW6QK4RpwF7PSjAqBUDgI06Q0CkAU2AmiVXwJkY+QDHJ0rAmzhIwJ4DCoGdD+BB3yFkAlsKzQHfKj9CsC9Qwd8KjYFxIUKBhxyDwOwcY8DnEwPA+Q7yQIQWygDsKInA5jo0QLcOUcCPCxPAtDxMQIk1B0DxFRrA6hMBQaEIx0EdIANA3zJFQQ0PwIDDD4sAjgkzQO0EhgD6KbwAnwYrwLsO0MDVAzAAlhyiAIYgIcDgDvJAoTKrAT05FoDNNSzAsBAEAM8oDgE/EobAg==",
          "dtype": "i4"
         },
         "yaxis": "y2"
        }
       ],
       "layout": {
        "template": {
         "data": {
          "bar": [
           {
            "error_x": {
             "color": "#2a3f5f"
            },
            "error_y": {
             "color": "#2a3f5f"
            },
            "marker": {
             "line": {
              "color": "white",
              "width": 0.5
             },
             "pattern": {
              "fillmode": "overlay",
              "size": 10,
              "solidity": 0.2
             }
            },
            "type": "bar"
           }
          ],
          "barpolar": [
           {
            "marker": {
             "line": {
              "color": "white",
              "width": 0.5
             },
             "pattern": {
              "fillmode": "overlay",
              "size": 10,
              "solidity": 0.2
             }
            },
            "type": "barpolar"
           }
          ],
          "carpet": [
           {
            "aaxis": {
             "endlinecolor": "#2a3f5f",
             "gridcolor": "#C8D4E3",
             "linecolor": "#C8D4E3",
             "minorgridcolor": "#C8D4E3",
             "startlinecolor": "#2a3f5f"
            },
            "baxis": {
             "endlinecolor": "#2a3f5f",
             "gridcolor": "#C8D4E3",
             "linecolor": "#C8D4E3",
             "minorgridcolor": "#C8D4E3",
             "startlinecolor": "#2a3f5f"
            },
            "type": "carpet"
           }
          ],
          "choropleth": [
           {
            "colorbar": {
             "outlinewidth": 0,
             "ticks": ""
            },
            "type": "choropleth"
           }
          ],
          "contour": [
           {
            "colorbar": {
             "outlinewidth": 0,
             "ticks": ""
            },
            "colorscale": [
             [
              0,
              "#0d0887"
             ],
             [
              0.1111111111111111,
              "#46039f"
             ],
             [
              0.2222222222222222,
              "#7201a8"
             ],
             [
              0.3333333333333333,
              "#9c179e"
             ],
             [
              0.4444444444444444,
              "#bd3786"
             ],
             [
              0.5555555555555556,
              "#d8576b"
             ],
             [
              0.6666666666666666,
              "#ed7953"
             ],
             [
              0.7777777777777778,
              "#fb9f3a"
             ],
             [
              0.8888888888888888,
              "#fdca26"
             ],
             [
              1,
              "#f0f921"
             ]
            ],
            "type": "contour"
           }
          ],
          "contourcarpet": [
           {
            "colorbar": {
             "outlinewidth": 0,
             "ticks": ""
            },
            "type": "contourcarpet"
           }
          ],
          "heatmap": [
           {
            "colorbar": {
             "outlinewidth": 0,
             "ticks": ""
            },
            "colorscale": [
             [
              0,
              "#0d0887"
             ],
             [
              0.1111111111111111,
              "#46039f"
             ],
             [
              0.2222222222222222,
              "#7201a8"
             ],
             [
              0.3333333333333333,
              "#9c179e"
             ],
             [
              0.4444444444444444,
              "#bd3786"
             ],
             [
              0.5555555555555556,
              "#d8576b"
             ],
             [
              0.6666666666666666,
              "#ed7953"
             ],
             [
              0.7777777777777778,
              "#fb9f3a"
             ],
             [
              0.8888888888888888,
              "#fdca26"
             ],
             [
              1,
              "#f0f921"
             ]
            ],
            "type": "heatmap"
           }
          ],
          "histogram": [
           {
            "marker": {
             "pattern": {
              "fillmode": "overlay",
              "size": 10,
              "solidity": 0.2
             }
            },
            "type": "histogram"
           }
          ],
          "histogram2d": [
           {
            "colorbar": {
             "outlinewidth": 0,
             "ticks": ""
            },
            "colorscale": [
             [
              0,
              "#0d0887"
             ],
             [
              0.1111111111111111,
              "#46039f"
             ],
             [
              0.2222222222222222,
              "#7201a8"
             ],
             [
              0.3333333333333333,
              "#9c179e"
             ],
             [
              0.4444444444444444,
              "#bd3786"
             ],
             [
              0.5555555555555556,
              "#d8576b"
             ],
             [
              0.6666666666666666,
              "#ed7953"
             ],
             [
              0.7777777777777778,
              "#fb9f3a"
             ],
             [
              0.8888888888888888,
              "#fdca26"
             ],
             [
              1,
              "#f0f921"
             ]
            ],
            "type": "histogram2d"
           }
          ],
          "histogram2dcontour": [
           {
            "colorbar": {
             "outlinewidth": 0,
             "ticks": ""
            },
            "colorscale": [
             [
              0,
              "#0d0887"
             ],
             [
              0.1111111111111111,
              "#46039f"
             ],
             [
              0.2222222222222222,
              "#7201a8"
             ],
             [
              0.3333333333333333,
              "#9c179e"
             ],
             [
              0.4444444444444444,
              "#bd3786"
             ],
             [
              0.5555555555555556,
              "#d8576b"
             ],
             [
              0.6666666666666666,
              "#ed7953"
             ],
             [
              0.7777777777777778,
              "#fb9f3a"
             ],
             [
              0.8888888888888888,
              "#fdca26"
             ],
             [
              1,
              "#f0f921"
             ]
            ],
            "type": "histogram2dcontour"
           }
          ],
          "mesh3d": [
           {
            "colorbar": {
             "outlinewidth": 0,
             "ticks": ""
            },
            "type": "mesh3d"
           }
          ],
          "parcoords": [
           {
            "line": {
             "colorbar": {
              "outlinewidth": 0,
              "ticks": ""
             }
            },
            "type": "parcoords"
           }
          ],
          "pie": [
           {
            "automargin": true,
            "type": "pie"
           }
          ],
          "scatter": [
           {
            "fillpattern": {
             "fillmode": "overlay",
             "size": 10,
             "solidity": 0.2
            },
            "type": "scatter"
           }
          ],
          "scatter3d": [
           {
            "line": {
             "colorbar": {
              "outlinewidth": 0,
              "ticks": ""
             }
            },
            "marker": {
             "colorbar": {
              "outlinewidth": 0,
              "ticks": ""
             }
            },
            "type": "scatter3d"
           }
          ],
          "scattercarpet": [
           {
            "marker": {
             "colorbar": {
              "outlinewidth": 0,
              "ticks": ""
             }
            },
            "type": "scattercarpet"
           }
          ],
          "scattergeo": [
           {
            "marker": {
             "colorbar": {
              "outlinewidth": 0,
              "ticks": ""
             }
            },
            "type": "scattergeo"
           }
          ],
          "scattergl": [
           {
            "marker": {
             "colorbar": {
              "outlinewidth": 0,
              "ticks": ""
             }
            },
            "type": "scattergl"
           }
          ],
          "scattermap": [
           {
            "marker": {
             "colorbar": {
              "outlinewidth": 0,
              "ticks": ""
             }
            },
            "type": "scattermap"
           }
          ],
          "scattermapbox": [
           {
            "marker": {
             "colorbar": {
              "outlinewidth": 0,
              "ticks": ""
             }
            },
            "type": "scattermapbox"
           }
          ],
          "scatterpolar": [
           {
            "marker": {
             "colorbar": {
              "outlinewidth": 0,
              "ticks": ""
             }
            },
            "type": "scatterpolar"
           }
          ],
          "scatterpolargl": [
           {
            "marker": {
             "colorbar": {
              "outlinewidth": 0,
              "ticks": ""
             }
            },
            "type": "scatterpolargl"
           }
          ],
          "scatterternary": [
           {
            "marker": {
             "colorbar": {
              "outlinewidth": 0,
              "ticks": ""
             }
            },
            "type": "scatterternary"
           }
          ],
          "surface": [
           {
            "colorbar": {
             "outlinewidth": 0,
             "ticks": ""
            },
            "colorscale": [
             [
              0,
              "#0d0887"
             ],
             [
              0.1111111111111111,
              "#46039f"
             ],
             [
              0.2222222222222222,
              "#7201a8"
             ],
             [
              0.3333333333333333,
              "#9c179e"
             ],
             [
              0.4444444444444444,
              "#bd3786"
             ],
             [
              0.5555555555555556,
              "#d8576b"
             ],
             [
              0.6666666666666666,
              "#ed7953"
             ],
             [
              0.7777777777777778,
              "#fb9f3a"
             ],
             [
              0.8888888888888888,
              "#fdca26"
             ],
             [
              1,
              "#f0f921"
             ]
            ],
            "type": "surface"
           }
          ],
          "table": [
           {
            "cells": {
             "fill": {
              "color": "#EBF0F8"
             },
             "line": {
              "color": "white"
             }
            },
            "header": {
             "fill": {
              "color": "#C8D4E3"
             },
             "line": {
              "color": "white"
             }
            },
            "type": "table"
           }
          ]
         },
         "layout": {
          "annotationdefaults": {
           "arrowcolor": "#2a3f5f",
           "arrowhead": 0,
           "arrowwidth": 1
          },
          "autotypenumbers": "strict",
          "coloraxis": {
           "colorbar": {
            "outlinewidth": 0,
            "ticks": ""
           }
          },
          "colorscale": {
           "diverging": [
            [
             0,
             "#8e0152"
            ],
            [
             0.1,
             "#c51b7d"
            ],
            [
             0.2,
             "#de77ae"
            ],
            [
             0.3,
             "#f1b6da"
            ],
            [
             0.4,
             "#fde0ef"
            ],
            [
             0.5,
             "#f7f7f7"
            ],
            [
             0.6,
             "#e6f5d0"
            ],
            [
             0.7,
             "#b8e186"
            ],
            [
             0.8,
             "#7fbc41"
            ],
            [
             0.9,
             "#4d9221"
            ],
            [
             1,
             "#276419"
            ]
           ],
           "sequential": [
            [
             0,
             "#0d0887"
            ],
            [
             0.1111111111111111,
             "#46039f"
            ],
            [
             0.2222222222222222,
             "#7201a8"
            ],
            [
             0.3333333333333333,
             "#9c179e"
            ],
            [
             0.4444444444444444,
             "#bd3786"
            ],
            [
             0.5555555555555556,
             "#d8576b"
            ],
            [
             0.6666666666666666,
             "#ed7953"
            ],
            [
             0.7777777777777778,
             "#fb9f3a"
            ],
            [
             0.8888888888888888,
             "#fdca26"
            ],
            [
             1,
             "#f0f921"
            ]
           ],
           "sequentialminus": [
            [
             0,
             "#0d0887"
            ],
            [
             0.1111111111111111,
             "#46039f"
            ],
            [
             0.2222222222222222,
             "#7201a8"
            ],
            [
             0.3333333333333333,
             "#9c179e"
            ],
            [
             0.4444444444444444,
             "#bd3786"
            ],
            [
             0.5555555555555556,
             "#d8576b"
            ],
            [
             0.6666666666666666,
             "#ed7953"
            ],
            [
             0.7777777777777778,
             "#fb9f3a"
            ],
            [
             0.8888888888888888,
             "#fdca26"
            ],
            [
             1,
             "#f0f921"
            ]
           ]
          },
          "colorway": [
           "#636efa",
           "#EF553B",
           "#00cc96",
           "#ab63fa",
           "#FFA15A",
           "#19d3f3",
           "#FF6692",
           "#B6E880",
           "#FF97FF",
           "#FECB52"
          ],
          "font": {
           "color": "#2a3f5f"
          },
          "geo": {
           "bgcolor": "white",
           "lakecolor": "white",
           "landcolor": "white",
           "showlakes": true,
           "showland": true,
           "subunitcolor": "#C8D4E3"
          },
          "hoverlabel": {
           "align": "left"
          },
          "hovermode": "closest",
          "mapbox": {
           "style": "light"
          },
          "paper_bgcolor": "white",
          "plot_bgcolor": "white",
          "polar": {
           "angularaxis": {
            "gridcolor": "#EBF0F8",
            "linecolor": "#EBF0F8",
            "ticks": ""
           },
           "bgcolor": "white",
           "radialaxis": {
            "gridcolor": "#EBF0F8",
            "linecolor": "#EBF0F8",
            "ticks": ""
           }
          },
          "scene": {
           "xaxis": {
            "backgroundcolor": "white",
            "gridcolor": "#DFE8F3",
            "gridwidth": 2,
            "linecolor": "#EBF0F8",
            "showbackground": true,
            "ticks": "",
            "zerolinecolor": "#EBF0F8"
           },
           "yaxis": {
            "backgroundcolor": "white",
            "gridcolor": "#DFE8F3",
            "gridwidth": 2,
            "linecolor": "#EBF0F8",
            "showbackground": true,
            "ticks": "",
            "zerolinecolor": "#EBF0F8"
           },
           "zaxis": {
            "backgroundcolor": "white",
            "gridcolor": "#DFE8F3",
            "gridwidth": 2,
            "linecolor": "#EBF0F8",
            "showbackground": true,
            "ticks": "",
            "zerolinecolor": "#EBF0F8"
           }
          },
          "shapedefaults": {
           "line": {
            "color": "#2a3f5f"
           }
          },
          "ternary": {
           "aaxis": {
            "gridcolor": "#DFE8F3",
            "linecolor": "#A2B1C6",
            "ticks": ""
           },
           "baxis": {
            "gridcolor": "#DFE8F3",
            "linecolor": "#A2B1C6",
            "ticks": ""
           },
           "bgcolor": "white",
           "caxis": {
            "gridcolor": "#DFE8F3",
            "linecolor": "#A2B1C6",
            "ticks": ""
           }
          },
          "title": {
           "x": 0.05
          },
          "xaxis": {
           "automargin": true,
           "gridcolor": "#EBF0F8",
           "linecolor": "#EBF0F8",
           "ticks": "",
           "title": {
            "standoff": 15
           },
           "zerolinecolor": "#EBF0F8",
           "zerolinewidth": 2
          },
          "yaxis": {
           "automargin": true,
           "gridcolor": "#EBF0F8",
           "linecolor": "#EBF0F8",
           "ticks": "",
           "title": {
            "standoff": 15
           },
           "zerolinecolor": "#EBF0F8",
           "zerolinewidth": 2
          }
         }
        },
        "title": {
         "text": "AAPL Stock Price"
        },
        "xaxis": {
         "anchor": "y",
         "domain": [
          0,
          1
         ],
         "matches": "x2",
         "showticklabels": false,
         "title": {
          "text": "Date"
         }
        },
        "xaxis2": {
         "anchor": "y2",
         "domain": [
          0,
          1
         ]
        },
        "yaxis": {
         "anchor": "x",
         "domain": [
          0.32099999999999995,
          0.9999999999999999
         ],
         "title": {
          "text": "Price"
         }
        },
        "yaxis2": {
         "anchor": "x2",
         "domain": [
          0,
          0.291
         ]
        }
       }
      }
     },
     "metadata": {},
     "output_type": "display_data"
    }
   ],
   "source": [
    "# Plot the data\n",
    "analyzer.plot_stock_data(data_with_indicators)"
   ]
  },
  {
   "cell_type": "code",
   "execution_count": 12,
   "id": "faea209a",
   "metadata": {},
   "outputs": [
    {
     "name": "stdout",
     "output_type": "stream",
     "text": [
      "\n",
      "News Impact Analysis:\n",
      "\n",
      "Date: 2023-09-12\n",
      "Headline: Apple announces new iPhone\n",
      "Price Change: -1.44%\n",
      "Volatility: 1.05%\n",
      "Volume Change: -2.92%\n",
      "\n",
      "Date: 2023-10-26\n",
      "Headline: Apple beats earnings\n",
      "Price Change: -1.57%\n",
      "Volatility: 1.55%\n",
      "Volume Change: -8.66%\n"
     ]
    }
   ],
   "source": [
    "# Example news impact analysis\n",
    "sample_news = pd.DataFrame({\n",
    "    'headline': ['Apple announces new iPhone', 'Apple beats earnings'],\n",
    "    'date': ['2023-09-12', '2023-10-26'],\n",
    "    'stock': ['AAPL', 'AAPL']\n",
    "})\n",
    "\n",
    "impact_analysis = analyzer.analyze_news_impact(sample_news, data)\n",
    "print(\"\\nNews Impact Analysis:\")\n",
    "for date, impact in impact_analysis.items():\n",
    "    # print(f\"Indicators: {data_with_indicators}\")\n",
    "    print(f\"\\nDate: {date}\")\n",
    "    print(f\"Headline: {impact['headline']}\")\n",
    "    print(f\"Price Change: {impact['price_change']:.2f}%\")\n",
    "    print(f\"Volatility: {impact['volatility']:.2f}%\")\n",
    "    print(f\"Volume Change: {impact['volume_change']:.2f}%\")"
   ]
  }
 ],
 "metadata": {
  "kernelspec": {
   "display_name": "Python 3",
   "language": "python",
   "name": "python3"
  },
  "language_info": {
   "codemirror_mode": {
    "name": "ipython",
    "version": 3
   },
   "file_extension": ".py",
   "mimetype": "text/x-python",
   "name": "python",
   "nbconvert_exporter": "python",
   "pygments_lexer": "ipython3",
   "version": "3.13.3"
  }
 },
 "nbformat": 4,
 "nbformat_minor": 5
}
